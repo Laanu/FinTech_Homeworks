{
 "metadata": {
  "language_info": {
   "codemirror_mode": {
    "name": "ipython",
    "version": 3
   },
   "file_extension": ".py",
   "mimetype": "text/x-python",
   "name": "python",
   "nbconvert_exporter": "python",
   "pygments_lexer": "ipython3",
   "version": "3.8.3-final"
  },
  "orig_nbformat": 2,
  "kernelspec": {
   "name": "Python 3.8.3 64-bit ('base': conda)",
   "display_name": "Python 3.8.3 64-bit ('base': conda)",
   "metadata": {
    "interpreter": {
     "hash": "17768faa9740a7a627b53c0a447c29a5dec5cb382f43934531627940642b9218"
    }
   }
  }
 },
 "nbformat": 4,
 "nbformat_minor": 2,
 "cells": [
  {
   "cell_type": "markdown",
   "metadata": {},
   "source": [
    "Your task is to create a Python script that analyzes the records to calculate each of the following:\n",
    "\n",
    "* The total number of months included in the dataset.\n",
    "\n",
    "* The net total amount of Profit/Losses over the entire period.\n",
    "\n",
    "* The average of the changes in Profit/Losses over the entire period.\n",
    "\n",
    "* The greatest increase in profits (date and amount) over the entire period.\n",
    "\n",
    "* The greatest decrease in losses (date and amount) over the entire period."
   ]
  },
  {
   "cell_type": "code",
   "execution_count": 47,
   "metadata": {
    "tags": []
   },
   "outputs": [],
   "source": [
    "from pathlib import Path\n",
    "import csv\n",
    "filepath = Path(\"./Resources/pybank_Resources.csv\")\n"
   ]
  },
  {
   "cell_type": "code",
   "execution_count": 48,
   "metadata": {
    "tags": []
   },
   "outputs": [
    {
     "output_type": "stream",
     "name": "stdout",
     "text": [
      "['Date', 'Profit/Losses']\n['Jan-2010', '867884']\n['Feb-2010', '984655']\n['Mar-2010', '322013']\n['Apr-2010', '-69417']\n['May-2010', '310503']\n['Jun-2010', '522857']\n['Jul-2010', '1033096']\n['Aug-2010', '604885']\n['Sep-2010', '-216386']\n['Oct-2010', '477532']\n['Nov-2010', '893810']\n['Dec-2010', '-80353']\n['Jan-2011', '779806']\n['Feb-2011', '-335203']\n['Mar-2011', '697845']\n['Apr-2011', '793163']\n['May-2011', '485070']\n['Jun-2011', '584122']\n['Jul-2011', '62729']\n['Aug-2011', '668179']\n['Sep-2011', '899906']\n['Oct-2011', '834719']\n['Nov-2011', '132003']\n['Dec-2011', '309978']\n['Jan-2012', '-755566']\n['Feb-2012', '1170593']\n['Mar-2012', '252788']\n['Apr-2012', '1151518']\n['May-2012', '817256']\n['Jun-2012', '570757']\n['Jul-2012', '506702']\n['Aug-2012', '-1022534']\n['Sep-2012', '475062']\n['Oct-2012', '779976']\n['Nov-2012', '144175']\n['Dec-2012', '542494']\n['Jan-2013', '359333']\n['Feb-2013', '321469']\n['Mar-2013', '67780']\n['Apr-2013', '471435']\n['May-2013', '565603']\n['Jun-2013', '872480']\n['Jul-2013', '789480']\n['Aug-2013', '999942']\n['Sep-2013', '-1196225']\n['Oct-2013', '268997']\n['Nov-2013', '-687986']\n['Dec-2013', '1150461']\n['Jan-2014', '682458']\n['Feb-2014', '617856']\n['Mar-2014', '824098']\n['Apr-2014', '581943']\n['May-2014', '132864']\n['Jun-2014', '448062']\n['Jul-2014', '689161']\n['Aug-2014', '800701']\n['Sep-2014', '1166643']\n['Oct-2014', '947333']\n['Nov-2014', '578668']\n['Dec-2014', '988505']\n['Jan-2015', '1139715']\n['Feb-2015', '1029471']\n['Mar-2015', '687533']\n['Apr-2015', '-524626']\n['May-2015', '158620']\n['Jun-2015', '87795']\n['Jul-2015', '423389']\n['Aug-2015', '840723']\n['Sep-2015', '568529']\n['Oct-2015', '332067']\n['Nov-2015', '989499']\n['Dec-2015', '778237']\n['Jan-2016', '650000']\n['Feb-2016', '-1100387']\n['Mar-2016', '-174946']\n['Apr-2016', '757143']\n['May-2016', '445709']\n['Jun-2016', '712961']\n['Jul-2016', '-1163797']\n['Aug-2016', '569899']\n['Sep-2016', '768450']\n['Oct-2016', '102685']\n['Nov-2016', '795914']\n['Dec-2016', '60988']\n['Jan-2017', '138230']\n['Feb-2017', '671099']\n"
     ]
    }
   ],
   "source": [
    "with open(filepath, \"r\") as csvfile:\n",
    "    csvreader = csv.reader(csvfile)\n",
    "\n",
    "    for row in csvreader:\n",
    "        print(row)"
   ]
  },
  {
   "cell_type": "code",
   "execution_count": 49,
   "metadata": {},
   "outputs": [],
   "source": [
    "total_months = []\n",
    "total_profit = []\n",
    "monthly_profit_change = []\n",
    "\n",
    "with open(filepath,newline=\"\", encoding=\"utf-8\") as budget:\n",
    "\n",
    "    csvreader = csv.reader(budget,delimiter=\",\") \n",
    "\n",
    "    header = next(csvreader)  \n",
    "\n",
    "    for row in csvreader: \n",
    "\n",
    "        total_months.append(row[0])\n",
    "        total_profit.append(int(row[1]))\n",
    "\n",
    "    for i in range(len(total_profit)-1):\n",
    "\n",
    "        monthly_profit_change.append(total_profit[i+1]-total_profit[i])"
   ]
  },
  {
   "cell_type": "markdown",
   "metadata": {},
   "source": [
    "The total number of months included in the dataset"
   ]
  },
  {
   "cell_type": "code",
   "execution_count": 50,
   "metadata": {
    "tags": []
   },
   "outputs": [
    {
     "output_type": "stream",
     "name": "stdout",
     "text": [
      "86\n"
     ]
    }
   ],
   "source": [
    "with open(filepath, \"r\") as csvfile:\n",
    "    csvreader = csv.reader(csvfile)\n",
    "    next (csvreader)\n",
    "    total_month = 0\n",
    "    for month in csvreader:\n",
    "        total_month = total_month + 1\n",
    "print(total_month)\n",
    "        "
   ]
  },
  {
   "cell_type": "markdown",
   "metadata": {},
   "source": [
    "#The net total amount of Profit/Losses over the entire period."
   ]
  },
  {
   "cell_type": "code",
   "execution_count": 51,
   "metadata": {
    "tags": []
   },
   "outputs": [
    {
     "output_type": "stream",
     "name": "stdout",
     "text": [
      "38382578\n"
     ]
    }
   ],
   "source": [
    "with open(filepath, \"r\") as csvfile:\n",
    "    csvreader = csv.reader(csvfile)\n",
    "    next(csvreader)\n",
    "\n",
    "    profit_Losses = 0\n",
    "    for row in csvreader:\n",
    "        profit_Losses += int (row[1])\n",
    "\n",
    "print(profit_Losses)"
   ]
  },
  {
   "cell_type": "markdown",
   "metadata": {},
   "source": [
    "The average of the changes in Profit/Losses over the entire period."
   ]
  },
  {
   "cell_type": "code",
   "execution_count": 52,
   "metadata": {
    "tags": []
   },
   "outputs": [
    {
     "output_type": "stream",
     "name": "stdout",
     "text": [
      "446309.0465116279\n"
     ]
    }
   ],
   "source": [
    "Average_Profit_losses = profit_Losses/total_month\n",
    "print(Average_Profit_losses)\n"
   ]
  },
  {
   "cell_type": "code",
   "execution_count": 53,
   "metadata": {},
   "outputs": [
    {
     "output_type": "execute_result",
     "data": {
      "text/plain": [
       "-2196167"
      ]
     },
     "metadata": {},
     "execution_count": 53
    }
   ],
   "source": [
    "\n",
    "max_decrease_value = min(monthly_profit_change)\n",
    "max_decrease_value"
   ]
  },
  {
   "cell_type": "code",
   "execution_count": 54,
   "metadata": {},
   "outputs": [
    {
     "output_type": "execute_result",
     "data": {
      "text/plain": [
       "1926159"
      ]
     },
     "metadata": {},
     "execution_count": 54
    }
   ],
   "source": [
    "max_increase_value = max(monthly_profit_change)\n",
    "max_increase_value"
   ]
  },
  {
   "cell_type": "markdown",
   "metadata": {},
   "source": [
    "The greatest increase in profits (date and amount) over the entire period."
   ]
  },
  {
   "cell_type": "code",
   "execution_count": 64,
   "metadata": {
    "tags": []
   },
   "outputs": [
    {
     "output_type": "execute_result",
     "data": {
      "text/plain": [
       "25"
      ]
     },
     "metadata": {},
     "execution_count": 64
    }
   ],
   "source": [
    "max_increase_month = monthly_profit_change.index(max_increase_value) + 1\n",
    "max_increase_month"
   ]
  },
  {
   "cell_type": "markdown",
   "metadata": {},
   "source": [
    "The greatest decrease in losses (date and amount) over the entire period."
   ]
  },
  {
   "cell_type": "code",
   "execution_count": 57,
   "metadata": {
    "tags": []
   },
   "outputs": [
    {
     "output_type": "execute_result",
     "data": {
      "text/plain": [
       "44"
      ]
     },
     "metadata": {},
     "execution_count": 57
    }
   ],
   "source": [
    "max_decrease_month = monthly_profit_change.index(min(monthly_profit_change)) + 1 \n",
    "max_decrease_month"
   ]
  },
  {
   "cell_type": "code",
   "execution_count": null,
   "metadata": {},
   "outputs": [],
   "source": []
  }
 ]
}