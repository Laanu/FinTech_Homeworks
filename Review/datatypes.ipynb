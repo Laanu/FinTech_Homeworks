{
 "metadata": {
  "language_info": {
   "codemirror_mode": {
    "name": "ipython",
    "version": 3
   },
   "file_extension": ".py",
   "mimetype": "text/x-python",
   "name": "python",
   "nbconvert_exporter": "python",
   "pygments_lexer": "ipython3",
   "version": "3.8.3-final"
  },
  "orig_nbformat": 2,
  "kernelspec": {
   "name": "Python 3.8.3 64-bit ('base': conda)",
   "display_name": "Python 3.8.3 64-bit ('base': conda)",
   "metadata": {
    "interpreter": {
     "hash": "17768faa9740a7a627b53c0a447c29a5dec5cb382f43934531627940642b9218"
    }
   }
  }
 },
 "nbformat": 4,
 "nbformat_minor": 2,
 "cells": [
  {
   "cell_type": "code",
   "execution_count": 22,
   "metadata": {},
   "outputs": [],
   "source": [
    "class Food():\n",
    "    def __init__(self,name,food_group, calories):\n",
    "        self.name = name\n",
    "        self.food_group =food_group\n",
    "        self.calories = calories\n",
    "\n",
    "    def eat(self):\n",
    "        self.calories = 0"
   ]
  },
  {
   "cell_type": "code",
   "execution_count": 36,
   "metadata": {},
   "outputs": [
    {
     "output_type": "execute_result",
     "data": {
      "text/plain": [
       "<__main__.Food at 0x7fd932f0e310>"
      ]
     },
     "metadata": {},
     "execution_count": 36
    }
   ],
   "source": [
    "Food(\"mango\", \"fruit\", 100)"
   ]
  },
  {
   "cell_type": "code",
   "execution_count": 37,
   "metadata": {},
   "outputs": [
    {
     "output_type": "error",
     "ename": "AttributeError",
     "evalue": "'tuple' object has no attribute 'Food'",
     "traceback": [
      "\u001b[0;31m---------------------------------------------------------------------------\u001b[0m",
      "\u001b[0;31mAttributeError\u001b[0m                            Traceback (most recent call last)",
      "\u001b[0;32m<ipython-input-37-612e6994d306>\u001b[0m in \u001b[0;36m<module>\u001b[0;34m\u001b[0m\n\u001b[0;32m----> 1\u001b[0;31m \u001b[0mmango\u001b[0m\u001b[0;34m.\u001b[0m\u001b[0mFood\u001b[0m\u001b[0;34m\u001b[0m\u001b[0;34m\u001b[0m\u001b[0m\n\u001b[0m",
      "\u001b[0;31mAttributeError\u001b[0m: 'tuple' object has no attribute 'Food'"
     ]
    }
   ],
   "source": [
    "mango.Food"
   ]
  },
  {
   "cell_type": "code",
   "execution_count": 3,
   "metadata": {},
   "outputs": [],
   "source": [
    "class limitedQueue(list):\n",
    "    def __init__(self, list_arg):\n",
    "        self.list_arg = list_arg\n",
    "    def add(self, new_item):\n",
    "        self.list_arg.insert(0,new_item)\n",
    "        self.list_arg.pop()\n",
    "        return self.list_arg"
   ]
  },
  {
   "cell_type": "code",
   "execution_count": null,
   "metadata": {},
   "outputs": [],
   "source": []
  }
 ]
}