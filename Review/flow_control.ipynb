{
 "metadata": {
  "language_info": {
   "codemirror_mode": {
    "name": "ipython",
    "version": 3
   },
   "file_extension": ".py",
   "mimetype": "text/x-python",
   "name": "python",
   "nbconvert_exporter": "python",
   "pygments_lexer": "ipython3",
   "version": "3.8.3-final"
  },
  "orig_nbformat": 2,
  "kernelspec": {
   "name": "Python 3.8.3 64-bit ('anaconda3': virtualenv)",
   "display_name": "Python 3.8.3 64-bit ('anaconda3': virtualenv)",
   "metadata": {
    "interpreter": {
     "hash": "17768faa9740a7a627b53c0a447c29a5dec5cb382f43934531627940642b9218"
    }
   }
  }
 },
 "nbformat": 4,
 "nbformat_minor": 2,
 "cells": [
  {
   "cell_type": "code",
   "execution_count": 1,
   "metadata": {},
   "outputs": [],
   "source": [
    "fruits = [\"durina\", \"jackfruit\", \"raspberry\",\"strawberry\",\"lemon\",\"orange\"]"
   ]
  },
  {
   "cell_type": "code",
   "execution_count": 13,
   "metadata": {},
   "outputs": [],
   "source": [
    "month = {\"january\":1,\n",
    "        \"february\":2,\n",
    "        \"march\":3,\n",
    "        \"april\":4,\n",
    "        \"May\": None\n",
    "        }"
   ]
  },
  {
   "cell_type": "code",
   "execution_count": 14,
   "metadata": {},
   "outputs": [
    {
     "output_type": "stream",
     "name": "stdout",
     "text": [
      "found the lemon\nfound the lemon\nfound the lemon\nfound the lemon\nfound the lemon\nfound the lemon\n"
     ]
    }
   ],
   "source": [
    "for item in fruits:\n",
    "    if item:\n",
    "        print(\"found the lemon\")"
   ]
  },
  {
   "cell_type": "code",
   "execution_count": 15,
   "metadata": {},
   "outputs": [
    {
     "output_type": "stream",
     "name": "stdout",
     "text": [
      "january\nfebruary\nmarch\napril\nMay\n"
     ]
    }
   ],
   "source": [
    "for key in month:\n",
    "    print(key)"
   ]
  },
  {
   "cell_type": "code",
   "execution_count": 16,
   "metadata": {},
   "outputs": [
    {
     "output_type": "stream",
     "name": "stdout",
     "text": [
      "1\n2\n3\n4\nNone\n"
     ]
    }
   ],
   "source": [
    "for key in month:\n",
    "    print(month[key])"
   ]
  },
  {
   "cell_type": "code",
   "execution_count": 24,
   "metadata": {},
   "outputs": [
    {
     "output_type": "stream",
     "name": "stdout",
     "text": [
      "key january\nvalue 1\nkey february\nvalue 2\nkey march\nvalue 3\nkey april\nvalue 4\nkey May\nvalue None\n"
     ]
    }
   ],
   "source": [
    "for key, value in month.items():\n",
    "    print(\"key\",key)\n",
    "    print(\"value\",value)\n",
    "    #print(\"\")"
   ]
  },
  {
   "cell_type": "code",
   "execution_count": 11,
   "metadata": {},
   "outputs": [
    {
     "output_type": "execute_result",
     "data": {
      "text/plain": [
       "1"
      ]
     },
     "metadata": {},
     "execution_count": 11
    }
   ],
   "source": [
    "month[\"january\"]"
   ]
  },
  {
   "cell_type": "code",
   "execution_count": null,
   "metadata": {},
   "outputs": [],
   "source": [
    "anytime your access a list in python you use hard bracket []"
   ]
  },
  {
   "cell_type": "code",
   "execution_count": null,
   "metadata": {},
   "outputs": [],
   "source": []
  },
  {
   "cell_type": "code",
   "execution_count": 25,
   "metadata": {},
   "outputs": [],
   "source": [
    "x = 3\n",
    "y = 29"
   ]
  },
  {
   "cell_type": "code",
   "execution_count": 30,
   "metadata": {},
   "outputs": [
    {
     "output_type": "stream",
     "name": "stdout",
     "text": [
      " whatever\n"
     ]
    }
   ],
   "source": [
    "if x > 5:\n",
    "    print(\"x is big\")\n",
    "elif x > 4:\n",
    "    print (\"x is not massive, but still kinda big\")\n",
    "elif x > 3:\n",
    "    print (\"small\")\n",
    "else:\n",
    "       print (\" whatever\") "
   ]
  },
  {
   "cell_type": "code",
   "execution_count": null,
   "metadata": {},
   "outputs": [],
   "source": [
    "while True:\n"
   ]
  }
 ]
}