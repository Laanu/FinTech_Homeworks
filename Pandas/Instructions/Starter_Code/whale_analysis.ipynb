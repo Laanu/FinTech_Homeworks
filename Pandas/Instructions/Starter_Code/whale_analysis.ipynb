{
 "cells": [
  {
   "cell_type": "markdown",
   "metadata": {},
   "source": [
    " #  A Whale off the Port(folio)\n",
    "\n",
    " In this assignment, you'll get to use what you've learned this week to evaluate the performance among various algorithmic, hedge, and mutual fund portfolios and compare them against the S&P 500."
   ]
  },
  {
   "cell_type": "code",
   "execution_count": 103,
   "metadata": {},
   "outputs": [],
   "source": [
    "import pandas as pd\n",
    "import numpy as np\n",
    "import datetime as dt\n",
    "from pathlib import Path\n",
    "%matplotlib inline"
   ]
  },
  {
   "cell_type": "markdown",
   "metadata": {},
   "source": [
    "# Data Cleaning\n",
    "\n",
    "In this section, you will need to read the CSV files into DataFrames and perform any necessary data cleaning steps. After cleaning, combine all DataFrames into a single DataFrame.\n",
    "\n",
    "Files:\n",
    "1. whale_returns.csv\n",
    "2. algo_returns.csv\n",
    "3. sp500_history.csv"
   ]
  },
  {
   "cell_type": "markdown",
   "metadata": {},
   "source": [
    "## Whale Returns\n",
    "\n",
    "Read the Whale Portfolio daily returns and clean the data"
   ]
  },
  {
   "cell_type": "code",
   "execution_count": 105,
   "metadata": {},
   "outputs": [
    {
     "output_type": "execute_result",
     "data": {
      "text/plain": [
       "            SOROS FUND MANAGEMENT LLC  PAULSON & CO.INC.   \\\n",
       "Date                                                        \n",
       "2015-03-02                        NaN                 NaN   \n",
       "2015-03-03                  -0.001266           -0.004981   \n",
       "2015-03-04                   0.002230            0.003241   \n",
       "2015-03-05                   0.004016            0.004076   \n",
       "2015-03-06                  -0.007905           -0.003574   \n",
       "\n",
       "            TIGER GLOBAL MANAGEMENT LLC  BERKSHIRE HATHAWAY INC  \n",
       "Date                                                             \n",
       "2015-03-02                          NaN                     NaN  \n",
       "2015-03-03                    -0.000496               -0.006569  \n",
       "2015-03-04                    -0.002534                0.004213  \n",
       "2015-03-05                     0.002355                0.006726  \n",
       "2015-03-06                    -0.008481               -0.013098  "
      ],
      "text/html": "<div>\n<style scoped>\n    .dataframe tbody tr th:only-of-type {\n        vertical-align: middle;\n    }\n\n    .dataframe tbody tr th {\n        vertical-align: top;\n    }\n\n    .dataframe thead th {\n        text-align: right;\n    }\n</style>\n<table border=\"1\" class=\"dataframe\">\n  <thead>\n    <tr style=\"text-align: right;\">\n      <th></th>\n      <th>SOROS FUND MANAGEMENT LLC</th>\n      <th>PAULSON &amp; CO.INC.</th>\n      <th>TIGER GLOBAL MANAGEMENT LLC</th>\n      <th>BERKSHIRE HATHAWAY INC</th>\n    </tr>\n    <tr>\n      <th>Date</th>\n      <th></th>\n      <th></th>\n      <th></th>\n      <th></th>\n    </tr>\n  </thead>\n  <tbody>\n    <tr>\n      <th>2015-03-02</th>\n      <td>NaN</td>\n      <td>NaN</td>\n      <td>NaN</td>\n      <td>NaN</td>\n    </tr>\n    <tr>\n      <th>2015-03-03</th>\n      <td>-0.001266</td>\n      <td>-0.004981</td>\n      <td>-0.000496</td>\n      <td>-0.006569</td>\n    </tr>\n    <tr>\n      <th>2015-03-04</th>\n      <td>0.002230</td>\n      <td>0.003241</td>\n      <td>-0.002534</td>\n      <td>0.004213</td>\n    </tr>\n    <tr>\n      <th>2015-03-05</th>\n      <td>0.004016</td>\n      <td>0.004076</td>\n      <td>0.002355</td>\n      <td>0.006726</td>\n    </tr>\n    <tr>\n      <th>2015-03-06</th>\n      <td>-0.007905</td>\n      <td>-0.003574</td>\n      <td>-0.008481</td>\n      <td>-0.013098</td>\n    </tr>\n  </tbody>\n</table>\n</div>"
     },
     "metadata": {},
     "execution_count": 105
    }
   ],
   "source": [
    "# Reading whale returns\n",
    "whale_returns_data = Path(\"Resources/whale_returns.csv\")\n",
    "# YOUR CODE HERE\n",
    "Whale_df = pd.read_csv(whale_returns_data, index_col=\"Date\")\n",
    "Whale_df.head()"
   ]
  },
  {
   "cell_type": "code",
   "execution_count": 107,
   "metadata": {},
   "outputs": [
    {
     "output_type": "execute_result",
     "data": {
      "text/plain": [
       "SOROS FUND MANAGEMENT LLC      1\n",
       "PAULSON & CO.INC.              1\n",
       "TIGER GLOBAL MANAGEMENT LLC    1\n",
       "BERKSHIRE HATHAWAY INC         1\n",
       "dtype: int64"
      ]
     },
     "metadata": {},
     "execution_count": 107
    }
   ],
   "source": [
    "# Count nulls\n",
    "Whale_df.isnull().sum()\n",
    "#Whale_df.count()\n",
    "# YOUR CODE HERE"
   ]
  },
  {
   "cell_type": "code",
   "execution_count": 109,
   "metadata": {},
   "outputs": [
    {
     "output_type": "execute_result",
     "data": {
      "text/plain": [
       "            SOROS FUND MANAGEMENT LLC  PAULSON & CO.INC.   \\\n",
       "Date                                                        \n",
       "2015-03-03                  -0.001266           -0.004981   \n",
       "2015-03-04                   0.002230            0.003241   \n",
       "2015-03-05                   0.004016            0.004076   \n",
       "2015-03-06                  -0.007905           -0.003574   \n",
       "2015-03-09                   0.000582            0.004225   \n",
       "2015-03-10                  -0.010263           -0.005341   \n",
       "2015-03-11                   0.004012            0.005163   \n",
       "2015-03-12                   0.008265            0.010272   \n",
       "2015-03-13                  -0.002497           -0.001428   \n",
       "2015-03-16                   0.007901            0.003583   \n",
       "2015-03-17                   0.002142            0.002928   \n",
       "2015-03-18                   0.009603            0.007513   \n",
       "2015-03-19                  -0.000778           -0.002554   \n",
       "2015-03-20                   0.009657            0.000983   \n",
       "2015-03-23                  -0.000067           -0.000513   \n",
       "2015-03-24                  -0.002571           -0.004808   \n",
       "2015-03-25                  -0.006156           -0.008018   \n",
       "2015-03-26                  -0.002098           -0.000593   \n",
       "2015-03-27                  -0.000075            0.002088   \n",
       "2015-03-30                   0.008113            0.002220   \n",
       "2015-03-31                  -0.005445           -0.003021   \n",
       "2015-04-01                   0.000919            0.000157   \n",
       "2015-04-02                   0.002561            0.004299   \n",
       "2015-04-06                   0.005368            0.003763   \n",
       "2015-04-07                  -0.001243           -0.000171   \n",
       "2015-04-08                   0.006185            0.012652   \n",
       "2015-04-09                   0.004036            0.003232   \n",
       "2015-04-10                  -0.000090            0.001230   \n",
       "2015-04-13                  -0.003448           -0.002766   \n",
       "2015-04-14                   0.003393            0.002021   \n",
       "...                               ...                 ...   \n",
       "2019-03-20                  -0.004683           -0.004472   \n",
       "2019-03-21                   0.015109            0.004746   \n",
       "2019-03-22                  -0.017664           -0.013698   \n",
       "2019-03-25                  -0.003330           -0.000420   \n",
       "2019-03-26                   0.004387            0.005641   \n",
       "2019-03-27                  -0.003994           -0.007321   \n",
       "2019-03-28                   0.003216           -0.006963   \n",
       "2019-03-29                   0.001392            0.003030   \n",
       "2019-04-01                   0.009000            0.010073   \n",
       "2019-04-02                   0.000193           -0.005619   \n",
       "2019-04-03                   0.003562            0.001305   \n",
       "2019-04-04                   0.001255            0.010630   \n",
       "2019-04-05                   0.006880            0.006484   \n",
       "2019-04-08                   0.000483           -0.000310   \n",
       "2019-04-09                  -0.005657           -0.004396   \n",
       "2019-04-10                   0.009808            0.008366   \n",
       "2019-04-11                   0.003406           -0.003959   \n",
       "2019-04-12                   0.005663           -0.001165   \n",
       "2019-04-15                  -0.001422           -0.001156   \n",
       "2019-04-16                   0.002699            0.000388   \n",
       "2019-04-17                  -0.002897           -0.006467   \n",
       "2019-04-18                   0.001448            0.001222   \n",
       "2019-04-22                  -0.002586           -0.007333   \n",
       "2019-04-23                   0.007167            0.003485   \n",
       "2019-04-24                   0.002284            0.001009   \n",
       "2019-04-25                  -0.000285           -0.001291   \n",
       "2019-04-26                   0.008149            0.009162   \n",
       "2019-04-29                   0.001254            0.002719   \n",
       "2019-04-30                  -0.001295           -0.002211   \n",
       "2019-05-01                  -0.005847           -0.001341   \n",
       "\n",
       "            TIGER GLOBAL MANAGEMENT LLC  BERKSHIRE HATHAWAY INC  \n",
       "Date                                                             \n",
       "2015-03-03                    -0.000496               -0.006569  \n",
       "2015-03-04                    -0.002534                0.004213  \n",
       "2015-03-05                     0.002355                0.006726  \n",
       "2015-03-06                    -0.008481               -0.013098  \n",
       "2015-03-09                     0.005843               -0.001652  \n",
       "2015-03-10                    -0.012079               -0.009739  \n",
       "2015-03-11                     0.003312               -0.001147  \n",
       "2015-03-12                     0.013117                0.010801  \n",
       "2015-03-13                    -0.003697               -0.008142  \n",
       "2015-03-16                     0.007953                0.008055  \n",
       "2015-03-17                    -0.000687                0.000384  \n",
       "2015-03-18                     0.009557                0.007854  \n",
       "2015-03-19                    -0.002925                0.002363  \n",
       "2015-03-20                     0.007391                0.007105  \n",
       "2015-03-23                    -0.000109                0.000591  \n",
       "2015-03-24                    -0.003321               -0.001013  \n",
       "2015-03-25                    -0.011172               -0.014567  \n",
       "2015-03-26                    -0.001035               -0.001212  \n",
       "2015-03-27                     0.002190                0.004776  \n",
       "2015-03-30                     0.008617                0.005228  \n",
       "2015-03-31                    -0.003968                0.001858  \n",
       "2015-04-01                    -0.002002               -0.003865  \n",
       "2015-04-02                     0.003058                0.001966  \n",
       "2015-04-06                     0.004631                0.004920  \n",
       "2015-04-07                    -0.002060                0.001882  \n",
       "2015-04-08                     0.003452                0.012352  \n",
       "2015-04-09                    -0.000453               -0.001905  \n",
       "2015-04-10                     0.002386                0.001661  \n",
       "2015-04-13                    -0.004072               -0.003074  \n",
       "2015-04-14                     0.002142                0.007516  \n",
       "...                                 ...                     ...  \n",
       "2019-03-20                    -0.007399               -0.000404  \n",
       "2019-03-21                     0.018898                0.013333  \n",
       "2019-03-22                    -0.016745               -0.028230  \n",
       "2019-03-25                     0.000972                0.010737  \n",
       "2019-03-26                     0.009190                0.005378  \n",
       "2019-03-27                    -0.004278               -0.006041  \n",
       "2019-03-28                     0.005932                0.005964  \n",
       "2019-03-29                    -0.001277                0.012783  \n",
       "2019-04-01                     0.003972                0.013182  \n",
       "2019-04-02                    -0.006623                0.001152  \n",
       "2019-04-03                     0.005193                0.003252  \n",
       "2019-04-04                     0.008459               -0.008037  \n",
       "2019-04-05                     0.009357                0.006128  \n",
       "2019-04-08                     0.000153                0.000841  \n",
       "2019-04-09                    -0.006536               -0.002497  \n",
       "2019-04-10                     0.002912                0.005269  \n",
       "2019-04-11                    -0.000637               -0.000496  \n",
       "2019-04-12                     0.004217                0.007316  \n",
       "2019-04-15                     0.000398               -0.010492  \n",
       "2019-04-16                    -0.000831                0.000837  \n",
       "2019-04-17                    -0.004409                0.003222  \n",
       "2019-04-18                     0.000582                0.001916  \n",
       "2019-04-22                    -0.003640               -0.001088  \n",
       "2019-04-23                     0.006472                0.013278  \n",
       "2019-04-24                    -0.004000               -0.006386  \n",
       "2019-04-25                    -0.005153                0.004848  \n",
       "2019-04-26                     0.012355                0.010434  \n",
       "2019-04-29                     0.006251                0.005223  \n",
       "2019-04-30                    -0.000259               -0.003702  \n",
       "2019-05-01                    -0.007936               -0.007833  \n",
       "\n",
       "[1059 rows x 4 columns]"
      ],
      "text/html": "<div>\n<style scoped>\n    .dataframe tbody tr th:only-of-type {\n        vertical-align: middle;\n    }\n\n    .dataframe tbody tr th {\n        vertical-align: top;\n    }\n\n    .dataframe thead th {\n        text-align: right;\n    }\n</style>\n<table border=\"1\" class=\"dataframe\">\n  <thead>\n    <tr style=\"text-align: right;\">\n      <th></th>\n      <th>SOROS FUND MANAGEMENT LLC</th>\n      <th>PAULSON &amp; CO.INC.</th>\n      <th>TIGER GLOBAL MANAGEMENT LLC</th>\n      <th>BERKSHIRE HATHAWAY INC</th>\n    </tr>\n    <tr>\n      <th>Date</th>\n      <th></th>\n      <th></th>\n      <th></th>\n      <th></th>\n    </tr>\n  </thead>\n  <tbody>\n    <tr>\n      <th>2015-03-03</th>\n      <td>-0.001266</td>\n      <td>-0.004981</td>\n      <td>-0.000496</td>\n      <td>-0.006569</td>\n    </tr>\n    <tr>\n      <th>2015-03-04</th>\n      <td>0.002230</td>\n      <td>0.003241</td>\n      <td>-0.002534</td>\n      <td>0.004213</td>\n    </tr>\n    <tr>\n      <th>2015-03-05</th>\n      <td>0.004016</td>\n      <td>0.004076</td>\n      <td>0.002355</td>\n      <td>0.006726</td>\n    </tr>\n    <tr>\n      <th>2015-03-06</th>\n      <td>-0.007905</td>\n      <td>-0.003574</td>\n      <td>-0.008481</td>\n      <td>-0.013098</td>\n    </tr>\n    <tr>\n      <th>2015-03-09</th>\n      <td>0.000582</td>\n      <td>0.004225</td>\n      <td>0.005843</td>\n      <td>-0.001652</td>\n    </tr>\n    <tr>\n      <th>2015-03-10</th>\n      <td>-0.010263</td>\n      <td>-0.005341</td>\n      <td>-0.012079</td>\n      <td>-0.009739</td>\n    </tr>\n    <tr>\n      <th>2015-03-11</th>\n      <td>0.004012</td>\n      <td>0.005163</td>\n      <td>0.003312</td>\n      <td>-0.001147</td>\n    </tr>\n    <tr>\n      <th>2015-03-12</th>\n      <td>0.008265</td>\n      <td>0.010272</td>\n      <td>0.013117</td>\n      <td>0.010801</td>\n    </tr>\n    <tr>\n      <th>2015-03-13</th>\n      <td>-0.002497</td>\n      <td>-0.001428</td>\n      <td>-0.003697</td>\n      <td>-0.008142</td>\n    </tr>\n    <tr>\n      <th>2015-03-16</th>\n      <td>0.007901</td>\n      <td>0.003583</td>\n      <td>0.007953</td>\n      <td>0.008055</td>\n    </tr>\n    <tr>\n      <th>2015-03-17</th>\n      <td>0.002142</td>\n      <td>0.002928</td>\n      <td>-0.000687</td>\n      <td>0.000384</td>\n    </tr>\n    <tr>\n      <th>2015-03-18</th>\n      <td>0.009603</td>\n      <td>0.007513</td>\n      <td>0.009557</td>\n      <td>0.007854</td>\n    </tr>\n    <tr>\n      <th>2015-03-19</th>\n      <td>-0.000778</td>\n      <td>-0.002554</td>\n      <td>-0.002925</td>\n      <td>0.002363</td>\n    </tr>\n    <tr>\n      <th>2015-03-20</th>\n      <td>0.009657</td>\n      <td>0.000983</td>\n      <td>0.007391</td>\n      <td>0.007105</td>\n    </tr>\n    <tr>\n      <th>2015-03-23</th>\n      <td>-0.000067</td>\n      <td>-0.000513</td>\n      <td>-0.000109</td>\n      <td>0.000591</td>\n    </tr>\n    <tr>\n      <th>2015-03-24</th>\n      <td>-0.002571</td>\n      <td>-0.004808</td>\n      <td>-0.003321</td>\n      <td>-0.001013</td>\n    </tr>\n    <tr>\n      <th>2015-03-25</th>\n      <td>-0.006156</td>\n      <td>-0.008018</td>\n      <td>-0.011172</td>\n      <td>-0.014567</td>\n    </tr>\n    <tr>\n      <th>2015-03-26</th>\n      <td>-0.002098</td>\n      <td>-0.000593</td>\n      <td>-0.001035</td>\n      <td>-0.001212</td>\n    </tr>\n    <tr>\n      <th>2015-03-27</th>\n      <td>-0.000075</td>\n      <td>0.002088</td>\n      <td>0.002190</td>\n      <td>0.004776</td>\n    </tr>\n    <tr>\n      <th>2015-03-30</th>\n      <td>0.008113</td>\n      <td>0.002220</td>\n      <td>0.008617</td>\n      <td>0.005228</td>\n    </tr>\n    <tr>\n      <th>2015-03-31</th>\n      <td>-0.005445</td>\n      <td>-0.003021</td>\n      <td>-0.003968</td>\n      <td>0.001858</td>\n    </tr>\n    <tr>\n      <th>2015-04-01</th>\n      <td>0.000919</td>\n      <td>0.000157</td>\n      <td>-0.002002</td>\n      <td>-0.003865</td>\n    </tr>\n    <tr>\n      <th>2015-04-02</th>\n      <td>0.002561</td>\n      <td>0.004299</td>\n      <td>0.003058</td>\n      <td>0.001966</td>\n    </tr>\n    <tr>\n      <th>2015-04-06</th>\n      <td>0.005368</td>\n      <td>0.003763</td>\n      <td>0.004631</td>\n      <td>0.004920</td>\n    </tr>\n    <tr>\n      <th>2015-04-07</th>\n      <td>-0.001243</td>\n      <td>-0.000171</td>\n      <td>-0.002060</td>\n      <td>0.001882</td>\n    </tr>\n    <tr>\n      <th>2015-04-08</th>\n      <td>0.006185</td>\n      <td>0.012652</td>\n      <td>0.003452</td>\n      <td>0.012352</td>\n    </tr>\n    <tr>\n      <th>2015-04-09</th>\n      <td>0.004036</td>\n      <td>0.003232</td>\n      <td>-0.000453</td>\n      <td>-0.001905</td>\n    </tr>\n    <tr>\n      <th>2015-04-10</th>\n      <td>-0.000090</td>\n      <td>0.001230</td>\n      <td>0.002386</td>\n      <td>0.001661</td>\n    </tr>\n    <tr>\n      <th>2015-04-13</th>\n      <td>-0.003448</td>\n      <td>-0.002766</td>\n      <td>-0.004072</td>\n      <td>-0.003074</td>\n    </tr>\n    <tr>\n      <th>2015-04-14</th>\n      <td>0.003393</td>\n      <td>0.002021</td>\n      <td>0.002142</td>\n      <td>0.007516</td>\n    </tr>\n    <tr>\n      <th>...</th>\n      <td>...</td>\n      <td>...</td>\n      <td>...</td>\n      <td>...</td>\n    </tr>\n    <tr>\n      <th>2019-03-20</th>\n      <td>-0.004683</td>\n      <td>-0.004472</td>\n      <td>-0.007399</td>\n      <td>-0.000404</td>\n    </tr>\n    <tr>\n      <th>2019-03-21</th>\n      <td>0.015109</td>\n      <td>0.004746</td>\n      <td>0.018898</td>\n      <td>0.013333</td>\n    </tr>\n    <tr>\n      <th>2019-03-22</th>\n      <td>-0.017664</td>\n      <td>-0.013698</td>\n      <td>-0.016745</td>\n      <td>-0.028230</td>\n    </tr>\n    <tr>\n      <th>2019-03-25</th>\n      <td>-0.003330</td>\n      <td>-0.000420</td>\n      <td>0.000972</td>\n      <td>0.010737</td>\n    </tr>\n    <tr>\n      <th>2019-03-26</th>\n      <td>0.004387</td>\n      <td>0.005641</td>\n      <td>0.009190</td>\n      <td>0.005378</td>\n    </tr>\n    <tr>\n      <th>2019-03-27</th>\n      <td>-0.003994</td>\n      <td>-0.007321</td>\n      <td>-0.004278</td>\n      <td>-0.006041</td>\n    </tr>\n    <tr>\n      <th>2019-03-28</th>\n      <td>0.003216</td>\n      <td>-0.006963</td>\n      <td>0.005932</td>\n      <td>0.005964</td>\n    </tr>\n    <tr>\n      <th>2019-03-29</th>\n      <td>0.001392</td>\n      <td>0.003030</td>\n      <td>-0.001277</td>\n      <td>0.012783</td>\n    </tr>\n    <tr>\n      <th>2019-04-01</th>\n      <td>0.009000</td>\n      <td>0.010073</td>\n      <td>0.003972</td>\n      <td>0.013182</td>\n    </tr>\n    <tr>\n      <th>2019-04-02</th>\n      <td>0.000193</td>\n      <td>-0.005619</td>\n      <td>-0.006623</td>\n      <td>0.001152</td>\n    </tr>\n    <tr>\n      <th>2019-04-03</th>\n      <td>0.003562</td>\n      <td>0.001305</td>\n      <td>0.005193</td>\n      <td>0.003252</td>\n    </tr>\n    <tr>\n      <th>2019-04-04</th>\n      <td>0.001255</td>\n      <td>0.010630</td>\n      <td>0.008459</td>\n      <td>-0.008037</td>\n    </tr>\n    <tr>\n      <th>2019-04-05</th>\n      <td>0.006880</td>\n      <td>0.006484</td>\n      <td>0.009357</td>\n      <td>0.006128</td>\n    </tr>\n    <tr>\n      <th>2019-04-08</th>\n      <td>0.000483</td>\n      <td>-0.000310</td>\n      <td>0.000153</td>\n      <td>0.000841</td>\n    </tr>\n    <tr>\n      <th>2019-04-09</th>\n      <td>-0.005657</td>\n      <td>-0.004396</td>\n      <td>-0.006536</td>\n      <td>-0.002497</td>\n    </tr>\n    <tr>\n      <th>2019-04-10</th>\n      <td>0.009808</td>\n      <td>0.008366</td>\n      <td>0.002912</td>\n      <td>0.005269</td>\n    </tr>\n    <tr>\n      <th>2019-04-11</th>\n      <td>0.003406</td>\n      <td>-0.003959</td>\n      <td>-0.000637</td>\n      <td>-0.000496</td>\n    </tr>\n    <tr>\n      <th>2019-04-12</th>\n      <td>0.005663</td>\n      <td>-0.001165</td>\n      <td>0.004217</td>\n      <td>0.007316</td>\n    </tr>\n    <tr>\n      <th>2019-04-15</th>\n      <td>-0.001422</td>\n      <td>-0.001156</td>\n      <td>0.000398</td>\n      <td>-0.010492</td>\n    </tr>\n    <tr>\n      <th>2019-04-16</th>\n      <td>0.002699</td>\n      <td>0.000388</td>\n      <td>-0.000831</td>\n      <td>0.000837</td>\n    </tr>\n    <tr>\n      <th>2019-04-17</th>\n      <td>-0.002897</td>\n      <td>-0.006467</td>\n      <td>-0.004409</td>\n      <td>0.003222</td>\n    </tr>\n    <tr>\n      <th>2019-04-18</th>\n      <td>0.001448</td>\n      <td>0.001222</td>\n      <td>0.000582</td>\n      <td>0.001916</td>\n    </tr>\n    <tr>\n      <th>2019-04-22</th>\n      <td>-0.002586</td>\n      <td>-0.007333</td>\n      <td>-0.003640</td>\n      <td>-0.001088</td>\n    </tr>\n    <tr>\n      <th>2019-04-23</th>\n      <td>0.007167</td>\n      <td>0.003485</td>\n      <td>0.006472</td>\n      <td>0.013278</td>\n    </tr>\n    <tr>\n      <th>2019-04-24</th>\n      <td>0.002284</td>\n      <td>0.001009</td>\n      <td>-0.004000</td>\n      <td>-0.006386</td>\n    </tr>\n    <tr>\n      <th>2019-04-25</th>\n      <td>-0.000285</td>\n      <td>-0.001291</td>\n      <td>-0.005153</td>\n      <td>0.004848</td>\n    </tr>\n    <tr>\n      <th>2019-04-26</th>\n      <td>0.008149</td>\n      <td>0.009162</td>\n      <td>0.012355</td>\n      <td>0.010434</td>\n    </tr>\n    <tr>\n      <th>2019-04-29</th>\n      <td>0.001254</td>\n      <td>0.002719</td>\n      <td>0.006251</td>\n      <td>0.005223</td>\n    </tr>\n    <tr>\n      <th>2019-04-30</th>\n      <td>-0.001295</td>\n      <td>-0.002211</td>\n      <td>-0.000259</td>\n      <td>-0.003702</td>\n    </tr>\n    <tr>\n      <th>2019-05-01</th>\n      <td>-0.005847</td>\n      <td>-0.001341</td>\n      <td>-0.007936</td>\n      <td>-0.007833</td>\n    </tr>\n  </tbody>\n</table>\n<p>1059 rows × 4 columns</p>\n</div>"
     },
     "metadata": {},
     "execution_count": 109
    }
   ],
   "source": [
    "# Drop nulls\n",
    "Whale_dropna = Whale_df.dropna()\n",
    "Whale_dropna\n"
   ]
  },
  {
   "cell_type": "code",
   "execution_count": 111,
   "metadata": {},
   "outputs": [
    {
     "output_type": "execute_result",
     "data": {
      "text/plain": [
       "SOROS FUND MANAGEMENT LLC      0\n",
       "PAULSON & CO.INC.              0\n",
       "TIGER GLOBAL MANAGEMENT LLC    0\n",
       "BERKSHIRE HATHAWAY INC         0\n",
       "dtype: int64"
      ]
     },
     "metadata": {},
     "execution_count": 111
    }
   ],
   "source": [
    "##Data Count for Na verification \n",
    "Whale_dropna.isnull().sum()"
   ]
  },
  {
   "cell_type": "code",
   "execution_count": null,
   "metadata": {},
   "outputs": [],
   "source": []
  },
  {
   "cell_type": "markdown",
   "metadata": {},
   "source": [
    "## Algorithmic Daily Returns\n",
    "\n",
    "Read the algorithmic daily returns and clean the data"
   ]
  },
  {
   "cell_type": "code",
   "execution_count": 113,
   "metadata": {},
   "outputs": [
    {
     "output_type": "execute_result",
     "data": {
      "text/plain": [
       "              Algo 1  Algo 2\n",
       "Date                        \n",
       "2014-05-28  0.001745     NaN\n",
       "2014-05-29  0.003978     NaN\n",
       "2014-05-30  0.004464     NaN\n",
       "2014-06-02  0.005692     NaN\n",
       "2014-06-03  0.005292     NaN"
      ],
      "text/html": "<div>\n<style scoped>\n    .dataframe tbody tr th:only-of-type {\n        vertical-align: middle;\n    }\n\n    .dataframe tbody tr th {\n        vertical-align: top;\n    }\n\n    .dataframe thead th {\n        text-align: right;\n    }\n</style>\n<table border=\"1\" class=\"dataframe\">\n  <thead>\n    <tr style=\"text-align: right;\">\n      <th></th>\n      <th>Algo 1</th>\n      <th>Algo 2</th>\n    </tr>\n    <tr>\n      <th>Date</th>\n      <th></th>\n      <th></th>\n    </tr>\n  </thead>\n  <tbody>\n    <tr>\n      <th>2014-05-28</th>\n      <td>0.001745</td>\n      <td>NaN</td>\n    </tr>\n    <tr>\n      <th>2014-05-29</th>\n      <td>0.003978</td>\n      <td>NaN</td>\n    </tr>\n    <tr>\n      <th>2014-05-30</th>\n      <td>0.004464</td>\n      <td>NaN</td>\n    </tr>\n    <tr>\n      <th>2014-06-02</th>\n      <td>0.005692</td>\n      <td>NaN</td>\n    </tr>\n    <tr>\n      <th>2014-06-03</th>\n      <td>0.005292</td>\n      <td>NaN</td>\n    </tr>\n  </tbody>\n</table>\n</div>"
     },
     "metadata": {},
     "execution_count": 113
    }
   ],
   "source": [
    "# Reading algorithmic returns\n",
    "algo_returns_data = Path(\"Resources/algo_returns.csv\")\n",
    "algo_df = pd.read_csv(algo_returns_data, index_col=\"Date\")\n",
    "algo_df.head()\n",
    "# YOUR CODE HERE"
   ]
  },
  {
   "cell_type": "code",
   "execution_count": 115,
   "metadata": {},
   "outputs": [
    {
     "output_type": "execute_result",
     "data": {
      "text/plain": [
       "Algo 1    0\n",
       "Algo 2    6\n",
       "dtype: int64"
      ]
     },
     "metadata": {},
     "execution_count": 115
    }
   ],
   "source": [
    "# Count nulls\n",
    "# YOUR CODE HERE\n",
    "algo_df.isnull().sum()"
   ]
  },
  {
   "cell_type": "code",
   "execution_count": 117,
   "metadata": {},
   "outputs": [
    {
     "output_type": "execute_result",
     "data": {
      "text/plain": [
       "              Algo 1    Algo 2\n",
       "Date                          \n",
       "2014-06-05  0.004062  0.013285\n",
       "2014-06-06  0.001857  0.008284\n",
       "2014-06-09 -0.005012  0.005668\n",
       "2014-06-10  0.004406 -0.000735\n",
       "2014-06-11  0.004760 -0.003761\n",
       "2014-06-12 -0.000028 -0.003841\n",
       "2014-06-13  0.001917 -0.000814\n",
       "2014-06-16  0.001084  0.001831\n",
       "2014-06-17  0.000922  0.006870\n",
       "2014-06-18 -0.006303  0.007228\n",
       "2014-06-19 -0.000853  0.003989\n",
       "2014-06-20  0.006398  0.003928\n",
       "2014-06-23 -0.004532 -0.000615\n",
       "2014-06-24  0.011861 -0.009389\n",
       "2014-06-25 -0.001321  0.006322\n",
       "2014-06-26 -0.000213 -0.000334\n",
       "2014-06-27  0.007136  0.004595\n",
       "2014-06-30 -0.001584  0.005242\n",
       "2014-07-01  0.001817  0.007710\n",
       "2014-07-02  0.003300 -0.002834\n",
       "2014-07-03  0.001358  0.003125\n",
       "2014-07-07  0.002782 -0.012258\n",
       "2014-07-08  0.002488 -0.010457\n",
       "2014-07-09 -0.001881  0.004427\n",
       "2014-07-10 -0.001153 -0.011214\n",
       "2014-07-11 -0.000366  0.002780\n",
       "2014-07-14  0.004460  0.004614\n",
       "2014-07-15 -0.002106 -0.007799\n",
       "2014-07-16 -0.003186  0.000109\n",
       "2014-07-17 -0.009030 -0.008056\n",
       "...              ...       ...\n",
       "2019-03-20 -0.009167  0.001009\n",
       "2019-03-21  0.000035  0.004714\n",
       "2019-03-22  0.002514 -0.020949\n",
       "2019-03-25  0.000973 -0.002058\n",
       "2019-03-26  0.005455  0.005614\n",
       "2019-03-27  0.008395 -0.004457\n",
       "2019-03-28  0.009932  0.005775\n",
       "2019-03-29 -0.000868  0.004576\n",
       "2019-04-01  0.008159  0.007257\n",
       "2019-04-02  0.003776 -0.000413\n",
       "2019-04-03 -0.003337  0.000287\n",
       "2019-04-04 -0.003597  0.003265\n",
       "2019-04-05  0.001519  0.009306\n",
       "2019-04-08  0.003761  0.000218\n",
       "2019-04-09  0.012012 -0.011639\n",
       "2019-04-10 -0.004221  0.009632\n",
       "2019-04-11  0.001705 -0.001568\n",
       "2019-04-12 -0.005501  0.004504\n",
       "2019-04-15 -0.004331 -0.004572\n",
       "2019-04-16 -0.006945  0.002899\n",
       "2019-04-17 -0.010301 -0.005228\n",
       "2019-04-18 -0.000588 -0.001229\n",
       "2019-04-22  0.000677 -0.001936\n",
       "2019-04-23  0.004969  0.009622\n",
       "2019-04-24  0.001095  0.000399\n",
       "2019-04-25  0.000682 -0.007247\n",
       "2019-04-26  0.002981  0.005256\n",
       "2019-04-29  0.005208  0.002829\n",
       "2019-04-30 -0.002944 -0.001570\n",
       "2019-05-01  0.000094 -0.007358\n",
       "\n",
       "[1235 rows x 2 columns]"
      ],
      "text/html": "<div>\n<style scoped>\n    .dataframe tbody tr th:only-of-type {\n        vertical-align: middle;\n    }\n\n    .dataframe tbody tr th {\n        vertical-align: top;\n    }\n\n    .dataframe thead th {\n        text-align: right;\n    }\n</style>\n<table border=\"1\" class=\"dataframe\">\n  <thead>\n    <tr style=\"text-align: right;\">\n      <th></th>\n      <th>Algo 1</th>\n      <th>Algo 2</th>\n    </tr>\n    <tr>\n      <th>Date</th>\n      <th></th>\n      <th></th>\n    </tr>\n  </thead>\n  <tbody>\n    <tr>\n      <th>2014-06-05</th>\n      <td>0.004062</td>\n      <td>0.013285</td>\n    </tr>\n    <tr>\n      <th>2014-06-06</th>\n      <td>0.001857</td>\n      <td>0.008284</td>\n    </tr>\n    <tr>\n      <th>2014-06-09</th>\n      <td>-0.005012</td>\n      <td>0.005668</td>\n    </tr>\n    <tr>\n      <th>2014-06-10</th>\n      <td>0.004406</td>\n      <td>-0.000735</td>\n    </tr>\n    <tr>\n      <th>2014-06-11</th>\n      <td>0.004760</td>\n      <td>-0.003761</td>\n    </tr>\n    <tr>\n      <th>2014-06-12</th>\n      <td>-0.000028</td>\n      <td>-0.003841</td>\n    </tr>\n    <tr>\n      <th>2014-06-13</th>\n      <td>0.001917</td>\n      <td>-0.000814</td>\n    </tr>\n    <tr>\n      <th>2014-06-16</th>\n      <td>0.001084</td>\n      <td>0.001831</td>\n    </tr>\n    <tr>\n      <th>2014-06-17</th>\n      <td>0.000922</td>\n      <td>0.006870</td>\n    </tr>\n    <tr>\n      <th>2014-06-18</th>\n      <td>-0.006303</td>\n      <td>0.007228</td>\n    </tr>\n    <tr>\n      <th>2014-06-19</th>\n      <td>-0.000853</td>\n      <td>0.003989</td>\n    </tr>\n    <tr>\n      <th>2014-06-20</th>\n      <td>0.006398</td>\n      <td>0.003928</td>\n    </tr>\n    <tr>\n      <th>2014-06-23</th>\n      <td>-0.004532</td>\n      <td>-0.000615</td>\n    </tr>\n    <tr>\n      <th>2014-06-24</th>\n      <td>0.011861</td>\n      <td>-0.009389</td>\n    </tr>\n    <tr>\n      <th>2014-06-25</th>\n      <td>-0.001321</td>\n      <td>0.006322</td>\n    </tr>\n    <tr>\n      <th>2014-06-26</th>\n      <td>-0.000213</td>\n      <td>-0.000334</td>\n    </tr>\n    <tr>\n      <th>2014-06-27</th>\n      <td>0.007136</td>\n      <td>0.004595</td>\n    </tr>\n    <tr>\n      <th>2014-06-30</th>\n      <td>-0.001584</td>\n      <td>0.005242</td>\n    </tr>\n    <tr>\n      <th>2014-07-01</th>\n      <td>0.001817</td>\n      <td>0.007710</td>\n    </tr>\n    <tr>\n      <th>2014-07-02</th>\n      <td>0.003300</td>\n      <td>-0.002834</td>\n    </tr>\n    <tr>\n      <th>2014-07-03</th>\n      <td>0.001358</td>\n      <td>0.003125</td>\n    </tr>\n    <tr>\n      <th>2014-07-07</th>\n      <td>0.002782</td>\n      <td>-0.012258</td>\n    </tr>\n    <tr>\n      <th>2014-07-08</th>\n      <td>0.002488</td>\n      <td>-0.010457</td>\n    </tr>\n    <tr>\n      <th>2014-07-09</th>\n      <td>-0.001881</td>\n      <td>0.004427</td>\n    </tr>\n    <tr>\n      <th>2014-07-10</th>\n      <td>-0.001153</td>\n      <td>-0.011214</td>\n    </tr>\n    <tr>\n      <th>2014-07-11</th>\n      <td>-0.000366</td>\n      <td>0.002780</td>\n    </tr>\n    <tr>\n      <th>2014-07-14</th>\n      <td>0.004460</td>\n      <td>0.004614</td>\n    </tr>\n    <tr>\n      <th>2014-07-15</th>\n      <td>-0.002106</td>\n      <td>-0.007799</td>\n    </tr>\n    <tr>\n      <th>2014-07-16</th>\n      <td>-0.003186</td>\n      <td>0.000109</td>\n    </tr>\n    <tr>\n      <th>2014-07-17</th>\n      <td>-0.009030</td>\n      <td>-0.008056</td>\n    </tr>\n    <tr>\n      <th>...</th>\n      <td>...</td>\n      <td>...</td>\n    </tr>\n    <tr>\n      <th>2019-03-20</th>\n      <td>-0.009167</td>\n      <td>0.001009</td>\n    </tr>\n    <tr>\n      <th>2019-03-21</th>\n      <td>0.000035</td>\n      <td>0.004714</td>\n    </tr>\n    <tr>\n      <th>2019-03-22</th>\n      <td>0.002514</td>\n      <td>-0.020949</td>\n    </tr>\n    <tr>\n      <th>2019-03-25</th>\n      <td>0.000973</td>\n      <td>-0.002058</td>\n    </tr>\n    <tr>\n      <th>2019-03-26</th>\n      <td>0.005455</td>\n      <td>0.005614</td>\n    </tr>\n    <tr>\n      <th>2019-03-27</th>\n      <td>0.008395</td>\n      <td>-0.004457</td>\n    </tr>\n    <tr>\n      <th>2019-03-28</th>\n      <td>0.009932</td>\n      <td>0.005775</td>\n    </tr>\n    <tr>\n      <th>2019-03-29</th>\n      <td>-0.000868</td>\n      <td>0.004576</td>\n    </tr>\n    <tr>\n      <th>2019-04-01</th>\n      <td>0.008159</td>\n      <td>0.007257</td>\n    </tr>\n    <tr>\n      <th>2019-04-02</th>\n      <td>0.003776</td>\n      <td>-0.000413</td>\n    </tr>\n    <tr>\n      <th>2019-04-03</th>\n      <td>-0.003337</td>\n      <td>0.000287</td>\n    </tr>\n    <tr>\n      <th>2019-04-04</th>\n      <td>-0.003597</td>\n      <td>0.003265</td>\n    </tr>\n    <tr>\n      <th>2019-04-05</th>\n      <td>0.001519</td>\n      <td>0.009306</td>\n    </tr>\n    <tr>\n      <th>2019-04-08</th>\n      <td>0.003761</td>\n      <td>0.000218</td>\n    </tr>\n    <tr>\n      <th>2019-04-09</th>\n      <td>0.012012</td>\n      <td>-0.011639</td>\n    </tr>\n    <tr>\n      <th>2019-04-10</th>\n      <td>-0.004221</td>\n      <td>0.009632</td>\n    </tr>\n    <tr>\n      <th>2019-04-11</th>\n      <td>0.001705</td>\n      <td>-0.001568</td>\n    </tr>\n    <tr>\n      <th>2019-04-12</th>\n      <td>-0.005501</td>\n      <td>0.004504</td>\n    </tr>\n    <tr>\n      <th>2019-04-15</th>\n      <td>-0.004331</td>\n      <td>-0.004572</td>\n    </tr>\n    <tr>\n      <th>2019-04-16</th>\n      <td>-0.006945</td>\n      <td>0.002899</td>\n    </tr>\n    <tr>\n      <th>2019-04-17</th>\n      <td>-0.010301</td>\n      <td>-0.005228</td>\n    </tr>\n    <tr>\n      <th>2019-04-18</th>\n      <td>-0.000588</td>\n      <td>-0.001229</td>\n    </tr>\n    <tr>\n      <th>2019-04-22</th>\n      <td>0.000677</td>\n      <td>-0.001936</td>\n    </tr>\n    <tr>\n      <th>2019-04-23</th>\n      <td>0.004969</td>\n      <td>0.009622</td>\n    </tr>\n    <tr>\n      <th>2019-04-24</th>\n      <td>0.001095</td>\n      <td>0.000399</td>\n    </tr>\n    <tr>\n      <th>2019-04-25</th>\n      <td>0.000682</td>\n      <td>-0.007247</td>\n    </tr>\n    <tr>\n      <th>2019-04-26</th>\n      <td>0.002981</td>\n      <td>0.005256</td>\n    </tr>\n    <tr>\n      <th>2019-04-29</th>\n      <td>0.005208</td>\n      <td>0.002829</td>\n    </tr>\n    <tr>\n      <th>2019-04-30</th>\n      <td>-0.002944</td>\n      <td>-0.001570</td>\n    </tr>\n    <tr>\n      <th>2019-05-01</th>\n      <td>0.000094</td>\n      <td>-0.007358</td>\n    </tr>\n  </tbody>\n</table>\n<p>1235 rows × 2 columns</p>\n</div>"
     },
     "metadata": {},
     "execution_count": 117
    }
   ],
   "source": [
    "# Drop nulls\n",
    "# YOUR CODE HERE\n",
    "algo_dropna = algo_df.dropna()\n",
    "algo_dropna"
   ]
  },
  {
   "cell_type": "code",
   "execution_count": 119,
   "metadata": {},
   "outputs": [
    {
     "output_type": "execute_result",
     "data": {
      "text/plain": [
       "Algo 1    0\n",
       "Algo 2    0\n",
       "dtype: int64"
      ]
     },
     "metadata": {},
     "execution_count": 119
    }
   ],
   "source": [
    "\"\"\" Verify Null removal \"\"\"\n",
    "algo_dropna.isnull().sum()"
   ]
  },
  {
   "cell_type": "markdown",
   "metadata": {},
   "source": [
    "## S&P 500 Returns\n",
    "\n",
    "Read the S&P500 Historic Closing Prices and create a new daily returns DataFrame from the data. "
   ]
  },
  {
   "cell_type": "code",
   "execution_count": 120,
   "metadata": {},
   "outputs": [],
   "source": [
    "# Reading S&P 500 Closing Prices\n",
    "sp500_history_csv = Path(\"Resources/sp500_history.csv\")\n",
    "# YOUR CODE HERE"
   ]
  },
  {
   "cell_type": "code",
   "execution_count": 121,
   "metadata": {},
   "outputs": [
    {
     "output_type": "execute_result",
     "data": {
      "text/plain": [
       "              Close\n",
       "Date               \n",
       "23-Apr-19  $2933.68\n",
       "22-Apr-19  $2907.97\n",
       "18-Apr-19  $2905.03\n",
       "17-Apr-19  $2900.45\n",
       "16-Apr-19  $2907.06"
      ],
      "text/html": "<div>\n<style scoped>\n    .dataframe tbody tr th:only-of-type {\n        vertical-align: middle;\n    }\n\n    .dataframe tbody tr th {\n        vertical-align: top;\n    }\n\n    .dataframe thead th {\n        text-align: right;\n    }\n</style>\n<table border=\"1\" class=\"dataframe\">\n  <thead>\n    <tr style=\"text-align: right;\">\n      <th></th>\n      <th>Close</th>\n    </tr>\n    <tr>\n      <th>Date</th>\n      <th></th>\n    </tr>\n  </thead>\n  <tbody>\n    <tr>\n      <th>23-Apr-19</th>\n      <td>$2933.68</td>\n    </tr>\n    <tr>\n      <th>22-Apr-19</th>\n      <td>$2907.97</td>\n    </tr>\n    <tr>\n      <th>18-Apr-19</th>\n      <td>$2905.03</td>\n    </tr>\n    <tr>\n      <th>17-Apr-19</th>\n      <td>$2900.45</td>\n    </tr>\n    <tr>\n      <th>16-Apr-19</th>\n      <td>$2907.06</td>\n    </tr>\n  </tbody>\n</table>\n</div>"
     },
     "metadata": {},
     "execution_count": 121
    }
   ],
   "source": [
    "# Fix Data Types\n",
    "sp500_df = pd.read_csv(sp500_history_csv, index_col=\"Date\")\n",
    "sp500_df.head()"
   ]
  },
  {
   "cell_type": "code",
   "execution_count": null,
   "metadata": {},
   "outputs": [],
   "source": []
  },
  {
   "cell_type": "code",
   "execution_count": 122,
   "metadata": {},
   "outputs": [
    {
     "output_type": "execute_result",
     "data": {
      "text/plain": [
       "Close    object\n",
       "dtype: object"
      ]
     },
     "metadata": {},
     "execution_count": 122
    }
   ],
   "source": [
    "# Check Data Types\n",
    "sp500_df.dtypes\n"
   ]
  },
  {
   "cell_type": "code",
   "execution_count": 123,
   "metadata": {},
   "outputs": [
    {
     "output_type": "execute_result",
     "data": {
      "text/plain": [
       "<bound method NDFrame.pct_change of               Close\n",
       "Date               \n",
       "23-Apr-19  $2933.68\n",
       "22-Apr-19  $2907.97\n",
       "18-Apr-19  $2905.03\n",
       "17-Apr-19  $2900.45\n",
       "16-Apr-19  $2907.06\n",
       "15-Apr-19  $2905.58\n",
       "12-Apr-19  $2907.41\n",
       "11-Apr-19  $2888.32\n",
       "10-Apr-19  $2888.21\n",
       "9-Apr-19   $2878.20\n",
       "8-Apr-19   $2895.77\n",
       "5-Apr-19   $2892.74\n",
       "4-Apr-19   $2879.39\n",
       "3-Apr-19   $2873.40\n",
       "2-Apr-19   $2867.24\n",
       "1-Apr-19   $2867.19\n",
       "29-Mar-19  $2834.40\n",
       "28-Mar-19  $2815.44\n",
       "27-Mar-19  $2805.37\n",
       "26-Mar-19  $2818.46\n",
       "25-Mar-19  $2798.36\n",
       "22-Mar-19  $2800.71\n",
       "21-Mar-19  $2854.88\n",
       "20-Mar-19  $2824.23\n",
       "19-Mar-19  $2832.57\n",
       "18-Mar-19  $2832.94\n",
       "15-Mar-19  $2822.48\n",
       "14-Mar-19  $2808.48\n",
       "13-Mar-19  $2810.92\n",
       "12-Mar-19  $2791.52\n",
       "...             ...\n",
       "13-Nov-12  $1374.53\n",
       "12-Nov-12  $1380.03\n",
       "9-Nov-12   $1379.85\n",
       "8-Nov-12   $1377.51\n",
       "7-Nov-12   $1394.53\n",
       "6-Nov-12   $1428.39\n",
       "5-Nov-12   $1417.26\n",
       "2-Nov-12   $1414.20\n",
       "1-Nov-12   $1427.59\n",
       "31-Oct-12  $1412.16\n",
       "26-Oct-12  $1411.94\n",
       "25-Oct-12  $1412.97\n",
       "24-Oct-12  $1408.75\n",
       "23-Oct-12  $1413.11\n",
       "22-Oct-12  $1433.82\n",
       "19-Oct-12  $1433.19\n",
       "18-Oct-12  $1457.34\n",
       "17-Oct-12  $1460.91\n",
       "16-Oct-12  $1454.92\n",
       "15-Oct-12  $1440.13\n",
       "12-Oct-12  $1428.59\n",
       "11-Oct-12  $1432.84\n",
       "10-Oct-12  $1432.56\n",
       "9-Oct-12   $1441.48\n",
       "8-Oct-12   $1455.88\n",
       "5-Oct-12   $1460.93\n",
       "4-Oct-12   $1461.40\n",
       "3-Oct-12   $1450.99\n",
       "2-Oct-12   $1445.75\n",
       "1-Oct-12   $1444.49\n",
       "\n",
       "[1649 rows x 1 columns]>"
      ]
     },
     "metadata": {},
     "execution_count": 123
    }
   ],
   "source": [
    "# Calculate Daily Returns\n",
    "sp500_dailyreturns = sp500_df.pct_change\n",
    "sp500_dailyreturns"
   ]
  },
  {
   "cell_type": "code",
   "execution_count": 124,
   "metadata": {},
   "outputs": [
    {
     "output_type": "execute_result",
     "data": {
      "text/plain": [
       "              Close\n",
       "Date               \n",
       "23-Apr-19  $2933.68\n",
       "22-Apr-19  $2907.97\n",
       "18-Apr-19  $2905.03\n",
       "17-Apr-19  $2900.45\n",
       "16-Apr-19  $2907.06"
      ],
      "text/html": "<div>\n<style scoped>\n    .dataframe tbody tr th:only-of-type {\n        vertical-align: middle;\n    }\n\n    .dataframe tbody tr th {\n        vertical-align: top;\n    }\n\n    .dataframe thead th {\n        text-align: right;\n    }\n</style>\n<table border=\"1\" class=\"dataframe\">\n  <thead>\n    <tr style=\"text-align: right;\">\n      <th></th>\n      <th>Close</th>\n    </tr>\n    <tr>\n      <th>Date</th>\n      <th></th>\n    </tr>\n  </thead>\n  <tbody>\n    <tr>\n      <th>23-Apr-19</th>\n      <td>$2933.68</td>\n    </tr>\n    <tr>\n      <th>22-Apr-19</th>\n      <td>$2907.97</td>\n    </tr>\n    <tr>\n      <th>18-Apr-19</th>\n      <td>$2905.03</td>\n    </tr>\n    <tr>\n      <th>17-Apr-19</th>\n      <td>$2900.45</td>\n    </tr>\n    <tr>\n      <th>16-Apr-19</th>\n      <td>$2907.06</td>\n    </tr>\n  </tbody>\n</table>\n</div>"
     },
     "metadata": {},
     "execution_count": 124
    }
   ],
   "source": [
    "# Rename Column\n",
    "columns = [\"Close\"]\n",
    "sp500_df.columns = columns\n",
    "sp500_df.head()"
   ]
  },
  {
   "cell_type": "markdown",
   "metadata": {},
   "source": [
    "## Combine Whale, Algorithmic, and S&P 500 Returns"
   ]
  },
  {
   "cell_type": "code",
   "execution_count": 157,
   "metadata": {},
   "outputs": [
    {
     "output_type": "execute_result",
     "data": {
      "text/plain": [
       "   Algo 1  Algo 2  BERKSHIRE HATHAWAY INC Close  PAULSON & CO.INC.   \\\n",
       "0     NaN     NaN               -0.006569   NaN           -0.004981   \n",
       "1     NaN     NaN                0.004213   NaN            0.003241   \n",
       "2     NaN     NaN                0.006726   NaN            0.004076   \n",
       "3     NaN     NaN               -0.013098   NaN           -0.003574   \n",
       "4     NaN     NaN               -0.001652   NaN            0.004225   \n",
       "\n",
       "   SOROS FUND MANAGEMENT LLC  TIGER GLOBAL MANAGEMENT LLC  \n",
       "0                  -0.001266                    -0.000496  \n",
       "1                   0.002230                    -0.002534  \n",
       "2                   0.004016                     0.002355  \n",
       "3                  -0.007905                    -0.008481  \n",
       "4                   0.000582                     0.005843  "
      ],
      "text/html": "<div>\n<style scoped>\n    .dataframe tbody tr th:only-of-type {\n        vertical-align: middle;\n    }\n\n    .dataframe tbody tr th {\n        vertical-align: top;\n    }\n\n    .dataframe thead th {\n        text-align: right;\n    }\n</style>\n<table border=\"1\" class=\"dataframe\">\n  <thead>\n    <tr style=\"text-align: right;\">\n      <th></th>\n      <th>Algo 1</th>\n      <th>Algo 2</th>\n      <th>BERKSHIRE HATHAWAY INC</th>\n      <th>Close</th>\n      <th>PAULSON &amp; CO.INC.</th>\n      <th>SOROS FUND MANAGEMENT LLC</th>\n      <th>TIGER GLOBAL MANAGEMENT LLC</th>\n    </tr>\n  </thead>\n  <tbody>\n    <tr>\n      <th>0</th>\n      <td>NaN</td>\n      <td>NaN</td>\n      <td>-0.006569</td>\n      <td>NaN</td>\n      <td>-0.004981</td>\n      <td>-0.001266</td>\n      <td>-0.000496</td>\n    </tr>\n    <tr>\n      <th>1</th>\n      <td>NaN</td>\n      <td>NaN</td>\n      <td>0.004213</td>\n      <td>NaN</td>\n      <td>0.003241</td>\n      <td>0.002230</td>\n      <td>-0.002534</td>\n    </tr>\n    <tr>\n      <th>2</th>\n      <td>NaN</td>\n      <td>NaN</td>\n      <td>0.006726</td>\n      <td>NaN</td>\n      <td>0.004076</td>\n      <td>0.004016</td>\n      <td>0.002355</td>\n    </tr>\n    <tr>\n      <th>3</th>\n      <td>NaN</td>\n      <td>NaN</td>\n      <td>-0.013098</td>\n      <td>NaN</td>\n      <td>-0.003574</td>\n      <td>-0.007905</td>\n      <td>-0.008481</td>\n    </tr>\n    <tr>\n      <th>4</th>\n      <td>NaN</td>\n      <td>NaN</td>\n      <td>-0.001652</td>\n      <td>NaN</td>\n      <td>0.004225</td>\n      <td>0.000582</td>\n      <td>0.005843</td>\n    </tr>\n  </tbody>\n</table>\n</div>"
     },
     "metadata": {},
     "execution_count": 157
    }
   ],
   "source": [
    "# Concatenate all DataFrames into a single DataFrame\n",
    "All_Data = pd.concat([Whale_dropna,sp500_df,algo_dropna], ignore_index=\"Date\")\n",
    "All_Data.head()"
   ]
  },
  {
   "cell_type": "markdown",
   "metadata": {},
   "source": [
    "---"
   ]
  },
  {
   "cell_type": "markdown",
   "metadata": {},
   "source": [
    "# Portfolio Analysis\n",
    "\n",
    "In this section, you will calculate and visualize performance and risk metrics for the portfolios."
   ]
  },
  {
   "cell_type": "markdown",
   "metadata": {},
   "source": [
    "## Performance\n",
    "\n",
    "Calculate and Plot the daily returns and cumulative returns. Does any portfolio outperform the S&P 500? "
   ]
  },
  {
   "cell_type": "code",
   "execution_count": 126,
   "metadata": {},
   "outputs": [],
   "source": [
    "# Plot daily returns\n",
    "# YOUR CODE HERE"
   ]
  },
  {
   "cell_type": "code",
   "execution_count": 127,
   "metadata": {},
   "outputs": [],
   "source": [
    "# Plot cumulative returns\n",
    "# YOUR CODE HERE"
   ]
  },
  {
   "cell_type": "markdown",
   "metadata": {},
   "source": [
    "## Risk\n",
    "\n",
    "Determine the _risk_ of each portfolio:\n",
    "\n",
    "1. Create a box plot for each portfolio. \n",
    "2. Calculate the standard deviation for all portfolios\n",
    "4. Determine which portfolios are riskier than the S&P 500\n",
    "5. Calculate the Annualized Standard Deviation"
   ]
  },
  {
   "cell_type": "code",
   "execution_count": 128,
   "metadata": {},
   "outputs": [],
   "source": [
    "# Box plot to visually show risk\n",
    "# YOUR CODE HERE"
   ]
  },
  {
   "cell_type": "code",
   "execution_count": 129,
   "metadata": {},
   "outputs": [],
   "source": [
    "# Daily Standard Deviations\n",
    "# Calculate the standard deviation for each portfolio. \n",
    "# Which portfolios are riskier than the S&P 500?\n",
    "# YOUR CODE HERE"
   ]
  },
  {
   "cell_type": "code",
   "execution_count": 130,
   "metadata": {},
   "outputs": [],
   "source": [
    "# Determine which portfolios are riskier than the S&P 500\n",
    "# YOUR CODE HERE"
   ]
  },
  {
   "cell_type": "code",
   "execution_count": 131,
   "metadata": {},
   "outputs": [],
   "source": [
    "# Calculate the annualized standard deviation (252 trading days)\n",
    "# YOUR CODE HERE"
   ]
  },
  {
   "cell_type": "markdown",
   "metadata": {},
   "source": [
    "---"
   ]
  },
  {
   "cell_type": "markdown",
   "metadata": {},
   "source": [
    "## Rolling Statistics\n",
    "\n",
    "Risk changes over time. Analyze the rolling statistics for Risk and Beta. \n",
    "\n",
    "1. Plot the rolling standard deviation of the various portfolios along with the rolling standard deviation of the S&P 500 (consider a 21 day window). Does the risk increase for each of the portfolios at the same time risk increases in the S&P?\n",
    "2. Construct a correlation table for the algorithmic, whale, and S&P 500 returns. Which returns most closely mimic the S&P?\n",
    "3. Choose one portfolio and plot a rolling beta between that portfolio's returns and S&P 500 returns. Does the portfolio seem sensitive to movements in the S&P 500?\n",
    "4. An alternative way to calculate a rolling window is to take the exponentially weighted moving average. This is like a moving window average, but it assigns greater importance to more recent observations. Try calculating the ewm with a 21 day half-life."
   ]
  },
  {
   "cell_type": "code",
   "execution_count": 132,
   "metadata": {},
   "outputs": [],
   "source": [
    "# Calculate and plot the rolling standard deviation for\n",
    "# the S&P 500 and whale portfolios using a 21 trading day window\n",
    "# YOUR CODE HERE"
   ]
  },
  {
   "cell_type": "code",
   "execution_count": 133,
   "metadata": {},
   "outputs": [],
   "source": [
    "# Construct a correlation table\n",
    "# YOUR CODE HERE"
   ]
  },
  {
   "cell_type": "code",
   "execution_count": 134,
   "metadata": {},
   "outputs": [],
   "source": [
    "# Calculate Beta for a single portfolio compared to the total market (S&P 500)\n",
    "# (Your graph may differ, dependent upon which portfolio you are comparing)\n",
    "# YOUR CODE HERE"
   ]
  },
  {
   "cell_type": "code",
   "execution_count": 135,
   "metadata": {},
   "outputs": [],
   "source": [
    "# Calculate a rolling window using the exponentially weighted moving average. \n",
    "# YOUR CODE HERE"
   ]
  },
  {
   "cell_type": "markdown",
   "metadata": {},
   "source": [
    "---"
   ]
  },
  {
   "cell_type": "markdown",
   "metadata": {},
   "source": [
    "## Sharpe Ratios\n",
    "In reality, investment managers and thier institutional investors look at the ratio of return-to-risk, and not just returns alone. (After all, if you could invest in one of two portfolios, each offered the same 10% return, yet one offered lower risk, you'd take that one, right?)\n",
    "\n",
    "1. Using the daily returns, calculate and visualize the Sharpe ratios using a bar plot.\n",
    "2. Determine whether the algorithmic strategies outperform both the market (S&P 500) and the whales portfolios."
   ]
  },
  {
   "cell_type": "code",
   "execution_count": 136,
   "metadata": {},
   "outputs": [],
   "source": [
    "# Calculate annualized Sharpe Ratios\n",
    "# YOUR CODE HERE"
   ]
  },
  {
   "cell_type": "code",
   "execution_count": 137,
   "metadata": {},
   "outputs": [],
   "source": [
    "# Visualize the sharpe ratios as a bar plot\n",
    "# YOUR CODE HERE"
   ]
  },
  {
   "cell_type": "markdown",
   "metadata": {},
   "source": [
    "On the basis of this performance metric, do our algo strategies outperform both 'the market' and the whales? Type your answer here:"
   ]
  },
  {
   "cell_type": "markdown",
   "metadata": {},
   "source": [
    "---"
   ]
  },
  {
   "cell_type": "markdown",
   "metadata": {},
   "source": [
    "# Portfolio Returns\n",
    "\n",
    "In this section, you will build your own portfolio of stocks, calculate the returns, and compare the results to the Whale Portfolios and the S&P 500. \n",
    "\n",
    "1. Visit [Google Sheets](https://docs.google.com/spreadsheets/) and use the in-built Google Finance function to choose 3-5 stocks for your own portfolio.\n",
    "2. Download the data as CSV files and calculate the portfolio returns.\n",
    "3. Calculate the returns for each stock.\n",
    "4. Using those returns, calculate the weighted returns for your entire portfolio assuming an equal number of shares for each stock.\n",
    "5. Add your portfolio returns to the DataFrame with the other portfolios and rerun the analysis. How does your portfolio fair?\n",
    "\n",
    "\n",
    "## Your analysis should include the following:\n",
    "\n",
    "- Using all portfolios:\n",
    " - The annualized standard deviation (252 trading days) for all portfolios.\n",
    " - The plotted rolling standard deviation using a 21 trading day window for all portfolios.\n",
    " - The calculated annualized Sharpe Ratios and the accompanying bar plot visualization.\n",
    " - A correlation table.\n",
    "- Using your custom portfolio and one other of your choosing:\n",
    " - The plotted beta. "
   ]
  },
  {
   "cell_type": "markdown",
   "metadata": {},
   "source": [
    "## Choose 3-5 custom stocks with at last 1 year's worth of historic prices and create a DataFrame of the closing prices and dates for each stock."
   ]
  },
  {
   "cell_type": "code",
   "execution_count": 138,
   "metadata": {},
   "outputs": [],
   "source": [
    "# Read the first stock\n",
    "# YOUR CODE HERE"
   ]
  },
  {
   "cell_type": "code",
   "execution_count": 139,
   "metadata": {},
   "outputs": [],
   "source": [
    "# Read the second stock\n",
    "# YOUR CODE HERE"
   ]
  },
  {
   "cell_type": "code",
   "execution_count": 140,
   "metadata": {},
   "outputs": [],
   "source": [
    "# Read the third stock\n",
    "# YOUR CODE HERE"
   ]
  },
  {
   "cell_type": "code",
   "execution_count": 141,
   "metadata": {},
   "outputs": [],
   "source": [
    "# Concatenate all stocks into a single DataFrame\n",
    "# YOUR CODE HERE"
   ]
  },
  {
   "cell_type": "code",
   "execution_count": 142,
   "metadata": {},
   "outputs": [],
   "source": [
    "# Reset the index\n",
    "# YOUR CODE HERE"
   ]
  },
  {
   "cell_type": "code",
   "execution_count": 143,
   "metadata": {},
   "outputs": [],
   "source": [
    "# Pivot so that each column of prices represents a unique symbol\n",
    "# YOUR CODE HERE"
   ]
  },
  {
   "cell_type": "code",
   "execution_count": 144,
   "metadata": {},
   "outputs": [],
   "source": [
    "# Drop Nulls\n",
    "# YOUR CODE HERE"
   ]
  },
  {
   "cell_type": "markdown",
   "metadata": {},
   "source": [
    "## Calculate the weighted returns for the portfolio assuming an equal number of shares for each stock"
   ]
  },
  {
   "cell_type": "code",
   "execution_count": 145,
   "metadata": {},
   "outputs": [],
   "source": [
    "# Calculate weighted portfolio returns\n",
    "weights = [1/3, 1/3, 1/3]\n",
    "# YOUR CODE HERE"
   ]
  },
  {
   "cell_type": "markdown",
   "metadata": {},
   "source": [
    "## Join your portfolio returns to the DataFrame that contains all of the portfolio returns"
   ]
  },
  {
   "cell_type": "code",
   "execution_count": 146,
   "metadata": {
    "scrolled": true
   },
   "outputs": [],
   "source": [
    "# Add your \"Custom\" portfolio to the larger dataframe of fund returns\n",
    "# YOUR CODE HERE"
   ]
  },
  {
   "cell_type": "code",
   "execution_count": 147,
   "metadata": {},
   "outputs": [],
   "source": [
    "# Only compare dates where return data exists for all the stocks (drop NaNs)\n",
    "# YOUR CODE HERE"
   ]
  },
  {
   "cell_type": "markdown",
   "metadata": {},
   "source": [
    "## Re-run the performance and risk analysis with your portfolio to see how it compares to the others"
   ]
  },
  {
   "cell_type": "code",
   "execution_count": 148,
   "metadata": {},
   "outputs": [],
   "source": [
    "# Risk\n",
    "# YOUR CODE HERE"
   ]
  },
  {
   "cell_type": "code",
   "execution_count": 149,
   "metadata": {},
   "outputs": [],
   "source": [
    "# Rolling\n",
    "# YOUR CODE HERE"
   ]
  },
  {
   "cell_type": "code",
   "execution_count": 150,
   "metadata": {},
   "outputs": [],
   "source": [
    "# Annualized Sharpe Ratios\n",
    "# YOUR CODE HERE"
   ]
  },
  {
   "cell_type": "code",
   "execution_count": 151,
   "metadata": {},
   "outputs": [],
   "source": [
    "# Visualize the sharpe ratios as a bar plot\n",
    "# YOUR CODE HERE"
   ]
  },
  {
   "cell_type": "code",
   "execution_count": 152,
   "metadata": {},
   "outputs": [],
   "source": [
    "# Create a correlation analysis\n",
    "# YOUR CODE HERE"
   ]
  },
  {
   "cell_type": "code",
   "execution_count": 153,
   "metadata": {},
   "outputs": [],
   "source": [
    "# Beta\n",
    "# YOUR CODE HERE"
   ]
  }
 ],
 "metadata": {
  "file_extension": ".py",
  "kernelspec": {
   "display_name": "Python 3",
   "language": "python",
   "name": "python3"
  },
  "language_info": {
   "codemirror_mode": {
    "name": "ipython",
    "version": 3
   },
   "file_extension": ".py",
   "mimetype": "text/x-python",
   "name": "python",
   "nbconvert_exporter": "python",
   "pygments_lexer": "ipython3",
   "version": "3.7.7-final"
  },
  "mimetype": "text/x-python",
  "name": "python",
  "npconvert_exporter": "python",
  "pygments_lexer": "ipython3",
  "version": 3
 },
 "nbformat": 4,
 "nbformat_minor": 4
}