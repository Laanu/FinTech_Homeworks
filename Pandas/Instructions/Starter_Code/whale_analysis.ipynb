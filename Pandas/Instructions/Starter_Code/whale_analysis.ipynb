{
 "cells": [
  {
   "cell_type": "markdown",
   "metadata": {},
   "source": [
    " #  A Whale off the Port(folio)\n",
    "\n",
    " In this assignment, you'll get to use what you've learned this week to evaluate the performance among various algorithmic, hedge, and mutual fund portfolios and compare them against the S&P 500."
   ]
  },
  {
   "cell_type": "code",
   "execution_count": 30,
   "metadata": {},
   "outputs": [],
   "source": [
    "import pandas as pd\n",
    "import numpy as np\n",
    "import datetime as dt\n",
    "from pathlib import Path\n",
    "%matplotlib inline"
   ]
  },
  {
   "cell_type": "markdown",
   "metadata": {},
   "source": [
    "# Data Cleaning\n",
    "\n",
    "In this section, you will need to read the CSV files into DataFrames and perform any necessary data cleaning steps. After cleaning, combine all DataFrames into a single DataFrame.\n",
    "\n",
    "Files:\n",
    "1. whale_returns.csv\n",
    "2. algo_returns.csv\n",
    "3. sp500_history.csv"
   ]
  },
  {
   "cell_type": "markdown",
   "metadata": {},
   "source": [
    "## Whale Returns\n",
    "\n",
    "Read the Whale Portfolio daily returns and clean the data"
   ]
  },
  {
   "cell_type": "code",
   "execution_count": 79,
   "metadata": {},
   "outputs": [
    {
     "output_type": "execute_result",
     "data": {
      "text/plain": "            SOROS FUND MANAGEMENT LLC  PAULSON &amp; CO.INC.   \\\nDate                                                        \n2015-03-02                        NaN                 NaN   \n2015-03-03                  -0.001266           -0.004981   \n2015-03-04                   0.002230            0.003241   \n2015-03-05                   0.004016            0.004076   \n2015-03-06                  -0.007905           -0.003574   \n\n            TIGER GLOBAL MANAGEMENT LLC  BERKSHIRE HATHAWAY INC  \nDate                                                             \n2015-03-02                          NaN                     NaN  \n2015-03-03                    -0.000496               -0.006569  \n2015-03-04                    -0.002534                0.004213  \n2015-03-05                     0.002355                0.006726  \n2015-03-06                    -0.008481               -0.013098  ",
      "text/html": "<div>\n<style scoped>\n    .dataframe tbody tr th:only-of-type {\n        vertical-align: middle;\n    }\n\n    .dataframe tbody tr th {\n        vertical-align: top;\n    }\n\n    .dataframe thead th {\n        text-align: right;\n    }\n</style>\n<table border=\"1\" class=\"dataframe\">\n  <thead>\n    <tr style=\"text-align: right;\">\n      <th></th>\n      <th>SOROS FUND MANAGEMENT LLC</th>\n      <th>PAULSON &amp; CO.INC.</th>\n      <th>TIGER GLOBAL MANAGEMENT LLC</th>\n      <th>BERKSHIRE HATHAWAY INC</th>\n    </tr>\n    <tr>\n      <th>Date</th>\n      <th></th>\n      <th></th>\n      <th></th>\n      <th></th>\n    </tr>\n  </thead>\n  <tbody>\n    <tr>\n      <th>2015-03-02</th>\n      <td>NaN</td>\n      <td>NaN</td>\n      <td>NaN</td>\n      <td>NaN</td>\n    </tr>\n    <tr>\n      <th>2015-03-03</th>\n      <td>-0.001266</td>\n      <td>-0.004981</td>\n      <td>-0.000496</td>\n      <td>-0.006569</td>\n    </tr>\n    <tr>\n      <th>2015-03-04</th>\n      <td>0.002230</td>\n      <td>0.003241</td>\n      <td>-0.002534</td>\n      <td>0.004213</td>\n    </tr>\n    <tr>\n      <th>2015-03-05</th>\n      <td>0.004016</td>\n      <td>0.004076</td>\n      <td>0.002355</td>\n      <td>0.006726</td>\n    </tr>\n    <tr>\n      <th>2015-03-06</th>\n      <td>-0.007905</td>\n      <td>-0.003574</td>\n      <td>-0.008481</td>\n      <td>-0.013098</td>\n    </tr>\n  </tbody>\n</table>\n</div>"
     },
     "metadata": {},
     "execution_count": 79
    }
   ],
   "source": [
    "# Reading whale returns\n",
    "whale_returns_data = Path(\"Resources/whale_returns.csv\")\n",
    "# YOUR CODE HERE\n",
    "Whale_df = pd.read_csv(whale_returns_data, index_col=\"Date\")\n",
    "Whale_df.head()"
   ]
  },
  {
   "cell_type": "code",
   "execution_count": 32,
   "metadata": {},
   "outputs": [
    {
     "output_type": "execute_result",
     "data": {
      "text/plain": "SOROS FUND MANAGEMENT LLC      1\nPAULSON &amp; CO.INC.              1\nTIGER GLOBAL MANAGEMENT LLC    1\nBERKSHIRE HATHAWAY INC         1\ndtype: int64"
     },
     "metadata": {},
     "execution_count": 32
    }
   ],
   "source": [
    "# Count nulls\n",
    "Whale_df.isnull().sum()\n",
    "#Whale_df.count()\n",
    "# YOUR CODE HERE"
   ]
  },
  {
   "cell_type": "code",
   "execution_count": 76,
   "metadata": {},
   "outputs": [
    {
     "output_type": "execute_result",
     "data": {
      "text/plain": "            SOROS FUND MANAGEMENT LLC  PAULSON &amp; CO.INC.   \\\nDate                                                        \n2015-03-03                  -0.001266           -0.004981   \n2015-03-04                   0.002230            0.003241   \n2015-03-05                   0.004016            0.004076   \n2015-03-06                  -0.007905           -0.003574   \n2015-03-09                   0.000582            0.004225   \n...                               ...                 ...   \n2019-04-25                  -0.000285           -0.001291   \n2019-04-26                   0.008149            0.009162   \n2019-04-29                   0.001254            0.002719   \n2019-04-30                  -0.001295           -0.002211   \n2019-05-01                  -0.005847           -0.001341   \n\n            TIGER GLOBAL MANAGEMENT LLC  BERKSHIRE HATHAWAY INC  \nDate                                                             \n2015-03-03                    -0.000496               -0.006569  \n2015-03-04                    -0.002534                0.004213  \n2015-03-05                     0.002355                0.006726  \n2015-03-06                    -0.008481               -0.013098  \n2015-03-09                     0.005843               -0.001652  \n...                                 ...                     ...  \n2019-04-25                    -0.005153                0.004848  \n2019-04-26                     0.012355                0.010434  \n2019-04-29                     0.006251                0.005223  \n2019-04-30                    -0.000259               -0.003702  \n2019-05-01                    -0.007936               -0.007833  \n\n[1059 rows x 4 columns]",
      "text/html": "<div>\n<style scoped>\n    .dataframe tbody tr th:only-of-type {\n        vertical-align: middle;\n    }\n\n    .dataframe tbody tr th {\n        vertical-align: top;\n    }\n\n    .dataframe thead th {\n        text-align: right;\n    }\n</style>\n<table border=\"1\" class=\"dataframe\">\n  <thead>\n    <tr style=\"text-align: right;\">\n      <th></th>\n      <th>SOROS FUND MANAGEMENT LLC</th>\n      <th>PAULSON &amp; CO.INC.</th>\n      <th>TIGER GLOBAL MANAGEMENT LLC</th>\n      <th>BERKSHIRE HATHAWAY INC</th>\n    </tr>\n    <tr>\n      <th>Date</th>\n      <th></th>\n      <th></th>\n      <th></th>\n      <th></th>\n    </tr>\n  </thead>\n  <tbody>\n    <tr>\n      <th>2015-03-03</th>\n      <td>-0.001266</td>\n      <td>-0.004981</td>\n      <td>-0.000496</td>\n      <td>-0.006569</td>\n    </tr>\n    <tr>\n      <th>2015-03-04</th>\n      <td>0.002230</td>\n      <td>0.003241</td>\n      <td>-0.002534</td>\n      <td>0.004213</td>\n    </tr>\n    <tr>\n      <th>2015-03-05</th>\n      <td>0.004016</td>\n      <td>0.004076</td>\n      <td>0.002355</td>\n      <td>0.006726</td>\n    </tr>\n    <tr>\n      <th>2015-03-06</th>\n      <td>-0.007905</td>\n      <td>-0.003574</td>\n      <td>-0.008481</td>\n      <td>-0.013098</td>\n    </tr>\n    <tr>\n      <th>2015-03-09</th>\n      <td>0.000582</td>\n      <td>0.004225</td>\n      <td>0.005843</td>\n      <td>-0.001652</td>\n    </tr>\n    <tr>\n      <th>...</th>\n      <td>...</td>\n      <td>...</td>\n      <td>...</td>\n      <td>...</td>\n    </tr>\n    <tr>\n      <th>2019-04-25</th>\n      <td>-0.000285</td>\n      <td>-0.001291</td>\n      <td>-0.005153</td>\n      <td>0.004848</td>\n    </tr>\n    <tr>\n      <th>2019-04-26</th>\n      <td>0.008149</td>\n      <td>0.009162</td>\n      <td>0.012355</td>\n      <td>0.010434</td>\n    </tr>\n    <tr>\n      <th>2019-04-29</th>\n      <td>0.001254</td>\n      <td>0.002719</td>\n      <td>0.006251</td>\n      <td>0.005223</td>\n    </tr>\n    <tr>\n      <th>2019-04-30</th>\n      <td>-0.001295</td>\n      <td>-0.002211</td>\n      <td>-0.000259</td>\n      <td>-0.003702</td>\n    </tr>\n    <tr>\n      <th>2019-05-01</th>\n      <td>-0.005847</td>\n      <td>-0.001341</td>\n      <td>-0.007936</td>\n      <td>-0.007833</td>\n    </tr>\n  </tbody>\n</table>\n<p>1059 rows × 4 columns</p>\n</div>"
     },
     "metadata": {},
     "execution_count": 76
    }
   ],
   "source": [
    "# Drop nulls\n",
    "Whale_dropna = Whale_df.dropna()\n",
    "Whale_dropna\n"
   ]
  },
  {
   "cell_type": "code",
   "execution_count": 78,
   "metadata": {},
   "outputs": [
    {
     "output_type": "execute_result",
     "data": {
      "text/plain": "SOROS FUND MANAGEMENT LLC      0\nPAULSON &amp; CO.INC.              0\nTIGER GLOBAL MANAGEMENT LLC    0\nBERKSHIRE HATHAWAY INC         0\ndtype: int64"
     },
     "metadata": {},
     "execution_count": 78
    }
   ],
   "source": [
    "##Data Count for Na verification \n",
    "Whale_dropna.isnull().sum()"
   ]
  },
  {
   "cell_type": "code",
   "execution_count": null,
   "metadata": {},
   "outputs": [],
   "source": []
  },
  {
   "cell_type": "markdown",
   "metadata": {},
   "source": [
    "## Algorithmic Daily Returns\n",
    "\n",
    "Read the algorithmic daily returns and clean the data"
   ]
  },
  {
   "cell_type": "code",
   "execution_count": 35,
   "metadata": {},
   "outputs": [
    {
     "output_type": "execute_result",
     "data": {
      "text/plain": "              Algo 1  Algo 2\nDate                        \n2014-05-28  0.001745     NaN\n2014-05-29  0.003978     NaN\n2014-05-30  0.004464     NaN\n2014-06-02  0.005692     NaN\n2014-06-03  0.005292     NaN",
      "text/html": "<div>\n<style scoped>\n    .dataframe tbody tr th:only-of-type {\n        vertical-align: middle;\n    }\n\n    .dataframe tbody tr th {\n        vertical-align: top;\n    }\n\n    .dataframe thead th {\n        text-align: right;\n    }\n</style>\n<table border=\"1\" class=\"dataframe\">\n  <thead>\n    <tr style=\"text-align: right;\">\n      <th></th>\n      <th>Algo 1</th>\n      <th>Algo 2</th>\n    </tr>\n    <tr>\n      <th>Date</th>\n      <th></th>\n      <th></th>\n    </tr>\n  </thead>\n  <tbody>\n    <tr>\n      <th>2014-05-28</th>\n      <td>0.001745</td>\n      <td>NaN</td>\n    </tr>\n    <tr>\n      <th>2014-05-29</th>\n      <td>0.003978</td>\n      <td>NaN</td>\n    </tr>\n    <tr>\n      <th>2014-05-30</th>\n      <td>0.004464</td>\n      <td>NaN</td>\n    </tr>\n    <tr>\n      <th>2014-06-02</th>\n      <td>0.005692</td>\n      <td>NaN</td>\n    </tr>\n    <tr>\n      <th>2014-06-03</th>\n      <td>0.005292</td>\n      <td>NaN</td>\n    </tr>\n  </tbody>\n</table>\n</div>"
     },
     "metadata": {},
     "execution_count": 35
    }
   ],
   "source": [
    "# Reading algorithmic returns\n",
    "algo_returns_data = Path(\"Resources/algo_returns.csv\")\n",
    "algo_df = pd.read_csv(algo_returns_data, index_col=\"Date\")\n",
    "algo_df.head()\n",
    "# YOUR CODE HERE"
   ]
  },
  {
   "cell_type": "code",
   "execution_count": 80,
   "metadata": {},
   "outputs": [
    {
     "output_type": "execute_result",
     "data": {
      "text/plain": "Algo 1    0\nAlgo 2    6\ndtype: int64"
     },
     "metadata": {},
     "execution_count": 80
    }
   ],
   "source": [
    "# Count nulls\n",
    "# YOUR CODE HERE\n",
    "algo_df.isnull().sum()"
   ]
  },
  {
   "cell_type": "code",
   "execution_count": 83,
   "metadata": {},
   "outputs": [
    {
     "output_type": "execute_result",
     "data": {
      "text/plain": "              Algo 1    Algo 2\nDate                          \n2014-06-05  0.004062  0.013285\n2014-06-06  0.001857  0.008284\n2014-06-09 -0.005012  0.005668\n2014-06-10  0.004406 -0.000735\n2014-06-11  0.004760 -0.003761\n...              ...       ...\n2019-04-25  0.000682 -0.007247\n2019-04-26  0.002981  0.005256\n2019-04-29  0.005208  0.002829\n2019-04-30 -0.002944 -0.001570\n2019-05-01  0.000094 -0.007358\n\n[1235 rows x 2 columns]",
      "text/html": "<div>\n<style scoped>\n    .dataframe tbody tr th:only-of-type {\n        vertical-align: middle;\n    }\n\n    .dataframe tbody tr th {\n        vertical-align: top;\n    }\n\n    .dataframe thead th {\n        text-align: right;\n    }\n</style>\n<table border=\"1\" class=\"dataframe\">\n  <thead>\n    <tr style=\"text-align: right;\">\n      <th></th>\n      <th>Algo 1</th>\n      <th>Algo 2</th>\n    </tr>\n    <tr>\n      <th>Date</th>\n      <th></th>\n      <th></th>\n    </tr>\n  </thead>\n  <tbody>\n    <tr>\n      <th>2014-06-05</th>\n      <td>0.004062</td>\n      <td>0.013285</td>\n    </tr>\n    <tr>\n      <th>2014-06-06</th>\n      <td>0.001857</td>\n      <td>0.008284</td>\n    </tr>\n    <tr>\n      <th>2014-06-09</th>\n      <td>-0.005012</td>\n      <td>0.005668</td>\n    </tr>\n    <tr>\n      <th>2014-06-10</th>\n      <td>0.004406</td>\n      <td>-0.000735</td>\n    </tr>\n    <tr>\n      <th>2014-06-11</th>\n      <td>0.004760</td>\n      <td>-0.003761</td>\n    </tr>\n    <tr>\n      <th>...</th>\n      <td>...</td>\n      <td>...</td>\n    </tr>\n    <tr>\n      <th>2019-04-25</th>\n      <td>0.000682</td>\n      <td>-0.007247</td>\n    </tr>\n    <tr>\n      <th>2019-04-26</th>\n      <td>0.002981</td>\n      <td>0.005256</td>\n    </tr>\n    <tr>\n      <th>2019-04-29</th>\n      <td>0.005208</td>\n      <td>0.002829</td>\n    </tr>\n    <tr>\n      <th>2019-04-30</th>\n      <td>-0.002944</td>\n      <td>-0.001570</td>\n    </tr>\n    <tr>\n      <th>2019-05-01</th>\n      <td>0.000094</td>\n      <td>-0.007358</td>\n    </tr>\n  </tbody>\n</table>\n<p>1235 rows × 2 columns</p>\n</div>"
     },
     "metadata": {},
     "execution_count": 83
    }
   ],
   "source": [
    "# Drop nulls\n",
    "# YOUR CODE HERE\n",
    "algo_dropna = algo_df.dropna()\n",
    "algo_dropna"
   ]
  },
  {
   "cell_type": "code",
   "execution_count": 84,
   "metadata": {},
   "outputs": [
    {
     "output_type": "execute_result",
     "data": {
      "text/plain": "Algo 1    0\nAlgo 2    0\ndtype: int64"
     },
     "metadata": {},
     "execution_count": 84
    }
   ],
   "source": [
    "\"\"\" Verify Null removal \"\"\"\n",
    "algo_dropna.isnull().sum()"
   ]
  },
  {
   "cell_type": "markdown",
   "metadata": {},
   "source": [
    "## S&P 500 Returns\n",
    "\n",
    "Read the S&P500 Historic Closing Prices and create a new daily returns DataFrame from the data. "
   ]
  },
  {
   "cell_type": "code",
   "execution_count": 38,
   "metadata": {},
   "outputs": [],
   "source": [
    "# Reading S&P 500 Closing Prices\n",
    "sp500_history_csv = Path(\"Resources/sp500_history.csv\")\n",
    "# YOUR CODE HERE"
   ]
  },
  {
   "cell_type": "code",
   "execution_count": 39,
   "metadata": {},
   "outputs": [],
   "source": [
    "# Check Data Types\n",
    "# YOUR CODE HERE"
   ]
  },
  {
   "cell_type": "code",
   "execution_count": 40,
   "metadata": {},
   "outputs": [],
   "source": [
    "# Fix Data Types\n",
    "# YOUR CODE HERE"
   ]
  },
  {
   "cell_type": "code",
   "execution_count": 41,
   "metadata": {},
   "outputs": [],
   "source": [
    "# Calculate Daily Returns\n",
    "# YOUR CODE HERE"
   ]
  },
  {
   "cell_type": "code",
   "execution_count": 42,
   "metadata": {},
   "outputs": [],
   "source": [
    "# Drop nulls\n",
    "# YOUR CODE HERE"
   ]
  },
  {
   "cell_type": "code",
   "execution_count": 43,
   "metadata": {},
   "outputs": [],
   "source": [
    "# Rename Column\n",
    "# YOUR CODE HERE"
   ]
  },
  {
   "cell_type": "markdown",
   "metadata": {},
   "source": [
    "## Combine Whale, Algorithmic, and S&P 500 Returns"
   ]
  },
  {
   "cell_type": "code",
   "execution_count": 44,
   "metadata": {},
   "outputs": [],
   "source": [
    "# Concatenate all DataFrames into a single DataFrame\n",
    "# YOUR CODE HERE"
   ]
  },
  {
   "cell_type": "markdown",
   "metadata": {},
   "source": [
    "---"
   ]
  },
  {
   "cell_type": "markdown",
   "metadata": {},
   "source": [
    "# Portfolio Analysis\n",
    "\n",
    "In this section, you will calculate and visualize performance and risk metrics for the portfolios."
   ]
  },
  {
   "cell_type": "markdown",
   "metadata": {},
   "source": [
    "## Performance\n",
    "\n",
    "Calculate and Plot the daily returns and cumulative returns. Does any portfolio outperform the S&P 500? "
   ]
  },
  {
   "cell_type": "code",
   "execution_count": 45,
   "metadata": {},
   "outputs": [],
   "source": [
    "# Plot daily returns\n",
    "# YOUR CODE HERE"
   ]
  },
  {
   "cell_type": "code",
   "execution_count": 46,
   "metadata": {},
   "outputs": [],
   "source": [
    "# Plot cumulative returns\n",
    "# YOUR CODE HERE"
   ]
  },
  {
   "cell_type": "markdown",
   "metadata": {},
   "source": [
    "## Risk\n",
    "\n",
    "Determine the _risk_ of each portfolio:\n",
    "\n",
    "1. Create a box plot for each portfolio. \n",
    "2. Calculate the standard deviation for all portfolios\n",
    "4. Determine which portfolios are riskier than the S&P 500\n",
    "5. Calculate the Annualized Standard Deviation"
   ]
  },
  {
   "cell_type": "code",
   "execution_count": 47,
   "metadata": {},
   "outputs": [],
   "source": [
    "# Box plot to visually show risk\n",
    "# YOUR CODE HERE"
   ]
  },
  {
   "cell_type": "code",
   "execution_count": 48,
   "metadata": {},
   "outputs": [],
   "source": [
    "# Daily Standard Deviations\n",
    "# Calculate the standard deviation for each portfolio. \n",
    "# Which portfolios are riskier than the S&P 500?\n",
    "# YOUR CODE HERE"
   ]
  },
  {
   "cell_type": "code",
   "execution_count": 49,
   "metadata": {},
   "outputs": [],
   "source": [
    "# Determine which portfolios are riskier than the S&P 500\n",
    "# YOUR CODE HERE"
   ]
  },
  {
   "cell_type": "code",
   "execution_count": 50,
   "metadata": {},
   "outputs": [],
   "source": [
    "# Calculate the annualized standard deviation (252 trading days)\n",
    "# YOUR CODE HERE"
   ]
  },
  {
   "cell_type": "markdown",
   "metadata": {},
   "source": [
    "---"
   ]
  },
  {
   "cell_type": "markdown",
   "metadata": {},
   "source": [
    "## Rolling Statistics\n",
    "\n",
    "Risk changes over time. Analyze the rolling statistics for Risk and Beta. \n",
    "\n",
    "1. Plot the rolling standard deviation of the various portfolios along with the rolling standard deviation of the S&P 500 (consider a 21 day window). Does the risk increase for each of the portfolios at the same time risk increases in the S&P?\n",
    "2. Construct a correlation table for the algorithmic, whale, and S&P 500 returns. Which returns most closely mimic the S&P?\n",
    "3. Choose one portfolio and plot a rolling beta between that portfolio's returns and S&P 500 returns. Does the portfolio seem sensitive to movements in the S&P 500?\n",
    "4. An alternative way to calculate a rolling window is to take the exponentially weighted moving average. This is like a moving window average, but it assigns greater importance to more recent observations. Try calculating the ewm with a 21 day half-life."
   ]
  },
  {
   "cell_type": "code",
   "execution_count": 51,
   "metadata": {},
   "outputs": [],
   "source": [
    "# Calculate and plot the rolling standard deviation for\n",
    "# the S&P 500 and whale portfolios using a 21 trading day window\n",
    "# YOUR CODE HERE"
   ]
  },
  {
   "cell_type": "code",
   "execution_count": 52,
   "metadata": {},
   "outputs": [],
   "source": [
    "# Construct a correlation table\n",
    "# YOUR CODE HERE"
   ]
  },
  {
   "cell_type": "code",
   "execution_count": 53,
   "metadata": {},
   "outputs": [],
   "source": [
    "# Calculate Beta for a single portfolio compared to the total market (S&P 500)\n",
    "# (Your graph may differ, dependent upon which portfolio you are comparing)\n",
    "# YOUR CODE HERE"
   ]
  },
  {
   "cell_type": "code",
   "execution_count": 54,
   "metadata": {},
   "outputs": [],
   "source": [
    "# Calculate a rolling window using the exponentially weighted moving average. \n",
    "# YOUR CODE HERE"
   ]
  },
  {
   "cell_type": "markdown",
   "metadata": {},
   "source": [
    "---"
   ]
  },
  {
   "cell_type": "markdown",
   "metadata": {},
   "source": [
    "## Sharpe Ratios\n",
    "In reality, investment managers and thier institutional investors look at the ratio of return-to-risk, and not just returns alone. (After all, if you could invest in one of two portfolios, each offered the same 10% return, yet one offered lower risk, you'd take that one, right?)\n",
    "\n",
    "1. Using the daily returns, calculate and visualize the Sharpe ratios using a bar plot.\n",
    "2. Determine whether the algorithmic strategies outperform both the market (S&P 500) and the whales portfolios."
   ]
  },
  {
   "cell_type": "code",
   "execution_count": 55,
   "metadata": {},
   "outputs": [],
   "source": [
    "# Calculate annualized Sharpe Ratios\n",
    "# YOUR CODE HERE"
   ]
  },
  {
   "cell_type": "code",
   "execution_count": 56,
   "metadata": {},
   "outputs": [],
   "source": [
    "# Visualize the sharpe ratios as a bar plot\n",
    "# YOUR CODE HERE"
   ]
  },
  {
   "cell_type": "markdown",
   "metadata": {},
   "source": [
    "On the basis of this performance metric, do our algo strategies outperform both 'the market' and the whales? Type your answer here:"
   ]
  },
  {
   "cell_type": "markdown",
   "metadata": {},
   "source": [
    "---"
   ]
  },
  {
   "cell_type": "markdown",
   "metadata": {},
   "source": [
    "# Portfolio Returns\n",
    "\n",
    "In this section, you will build your own portfolio of stocks, calculate the returns, and compare the results to the Whale Portfolios and the S&P 500. \n",
    "\n",
    "1. Visit [Google Sheets](https://docs.google.com/spreadsheets/) and use the in-built Google Finance function to choose 3-5 stocks for your own portfolio.\n",
    "2. Download the data as CSV files and calculate the portfolio returns.\n",
    "3. Calculate the returns for each stock.\n",
    "4. Using those returns, calculate the weighted returns for your entire portfolio assuming an equal number of shares for each stock.\n",
    "5. Add your portfolio returns to the DataFrame with the other portfolios and rerun the analysis. How does your portfolio fair?\n",
    "\n",
    "\n",
    "## Your analysis should include the following:\n",
    "\n",
    "- Using all portfolios:\n",
    " - The annualized standard deviation (252 trading days) for all portfolios.\n",
    " - The plotted rolling standard deviation using a 21 trading day window for all portfolios.\n",
    " - The calculated annualized Sharpe Ratios and the accompanying bar plot visualization.\n",
    " - A correlation table.\n",
    "- Using your custom portfolio and one other of your choosing:\n",
    " - The plotted beta. "
   ]
  },
  {
   "cell_type": "markdown",
   "metadata": {},
   "source": [
    "## Choose 3-5 custom stocks with at last 1 year's worth of historic prices and create a DataFrame of the closing prices and dates for each stock."
   ]
  },
  {
   "cell_type": "code",
   "execution_count": 57,
   "metadata": {},
   "outputs": [],
   "source": [
    "# Read the first stock\n",
    "# YOUR CODE HERE"
   ]
  },
  {
   "cell_type": "code",
   "execution_count": 58,
   "metadata": {},
   "outputs": [],
   "source": [
    "# Read the second stock\n",
    "# YOUR CODE HERE"
   ]
  },
  {
   "cell_type": "code",
   "execution_count": 59,
   "metadata": {},
   "outputs": [],
   "source": [
    "# Read the third stock\n",
    "# YOUR CODE HERE"
   ]
  },
  {
   "cell_type": "code",
   "execution_count": 60,
   "metadata": {},
   "outputs": [],
   "source": [
    "# Concatenate all stocks into a single DataFrame\n",
    "# YOUR CODE HERE"
   ]
  },
  {
   "cell_type": "code",
   "execution_count": 61,
   "metadata": {},
   "outputs": [],
   "source": [
    "# Reset the index\n",
    "# YOUR CODE HERE"
   ]
  },
  {
   "cell_type": "code",
   "execution_count": 62,
   "metadata": {},
   "outputs": [],
   "source": [
    "# Pivot so that each column of prices represents a unique symbol\n",
    "# YOUR CODE HERE"
   ]
  },
  {
   "cell_type": "code",
   "execution_count": 63,
   "metadata": {},
   "outputs": [],
   "source": [
    "# Drop Nulls\n",
    "# YOUR CODE HERE"
   ]
  },
  {
   "cell_type": "markdown",
   "metadata": {},
   "source": [
    "## Calculate the weighted returns for the portfolio assuming an equal number of shares for each stock"
   ]
  },
  {
   "cell_type": "code",
   "execution_count": 64,
   "metadata": {},
   "outputs": [],
   "source": [
    "# Calculate weighted portfolio returns\n",
    "weights = [1/3, 1/3, 1/3]\n",
    "# YOUR CODE HERE"
   ]
  },
  {
   "cell_type": "markdown",
   "metadata": {},
   "source": [
    "## Join your portfolio returns to the DataFrame that contains all of the portfolio returns"
   ]
  },
  {
   "cell_type": "code",
   "execution_count": 65,
   "metadata": {
    "scrolled": true
   },
   "outputs": [],
   "source": [
    "# Add your \"Custom\" portfolio to the larger dataframe of fund returns\n",
    "# YOUR CODE HERE"
   ]
  },
  {
   "cell_type": "code",
   "execution_count": 66,
   "metadata": {},
   "outputs": [],
   "source": [
    "# Only compare dates where return data exists for all the stocks (drop NaNs)\n",
    "# YOUR CODE HERE"
   ]
  },
  {
   "cell_type": "markdown",
   "metadata": {},
   "source": [
    "## Re-run the performance and risk analysis with your portfolio to see how it compares to the others"
   ]
  },
  {
   "cell_type": "code",
   "execution_count": 67,
   "metadata": {},
   "outputs": [],
   "source": [
    "# Risk\n",
    "# YOUR CODE HERE"
   ]
  },
  {
   "cell_type": "code",
   "execution_count": 68,
   "metadata": {},
   "outputs": [],
   "source": [
    "# Rolling\n",
    "# YOUR CODE HERE"
   ]
  },
  {
   "cell_type": "code",
   "execution_count": 69,
   "metadata": {},
   "outputs": [],
   "source": [
    "# Annualized Sharpe Ratios\n",
    "# YOUR CODE HERE"
   ]
  },
  {
   "cell_type": "code",
   "execution_count": 70,
   "metadata": {},
   "outputs": [],
   "source": [
    "# Visualize the sharpe ratios as a bar plot\n",
    "# YOUR CODE HERE"
   ]
  },
  {
   "cell_type": "code",
   "execution_count": 71,
   "metadata": {},
   "outputs": [],
   "source": [
    "# Create a correlation analysis\n",
    "# YOUR CODE HERE"
   ]
  },
  {
   "cell_type": "code",
   "execution_count": 72,
   "metadata": {},
   "outputs": [],
   "source": [
    "# Beta\n",
    "# YOUR CODE HERE"
   ]
  }
 ],
 "metadata": {
  "file_extension": ".py",
  "kernelspec": {
   "display_name": "Python 3",
   "language": "python",
   "name": "python3"
  },
  "language_info": {
   "codemirror_mode": {
    "name": "ipython",
    "version": 3
   },
   "file_extension": ".py",
   "mimetype": "text/x-python",
   "name": "python",
   "nbconvert_exporter": "python",
   "pygments_lexer": "ipython3",
   "version": "3.8.3-final"
  },
  "mimetype": "text/x-python",
  "name": "python",
  "npconvert_exporter": "python",
  "pygments_lexer": "ipython3",
  "version": 3
 },
 "nbformat": 4,
 "nbformat_minor": 4
}